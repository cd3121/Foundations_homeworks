{
 "cells": [
  {
   "cell_type": "markdown",
   "metadata": {},
   "source": [
    "## Speeches Project Guide\n",
    "\n",
    "The ultimate goal of this project is to build a database of speeches by Barack Obama and George W. Bush or any other set of world leaders that you can find speech transcripts for.\n",
    "\n",
    "The key elements that you need to obtain are the date, location, and text of the speech. In the coding steps below I take you through the process of creating this database for Obama and Bush. The end goal, in the next week or so, is to create a map of speech locations for each leader so that you can click through and see the text of the speech. Your goal should be to obtain at least 20 speeches per person, and limit yourself to 2 or 3 leaders (if you are choosing to investigate other leaders). \n",
    "\n",
    "Beyond creating a simple map--with the bare necessities of location, time, and transcript--you may want to investigate the kind of event, the size of the audience, whether these are national or international speeches: any kind of categorizing that will potentially deepen our insight into and interpretation of the speeches. You may also choose to run simple processes/aggregations on the speeches like most-frequent-words, types of phrases, groups of words that you choose to search for in order to bring your own point of view to this exploration of the speeches.\n",
    "\n",
    "The programmatic journey for this project is relatively straightforward--especially if you choose Obama and Bush--but is quite open as far as how you want to interpret it. \n",
    "\n",
    "Below, I have outlined the methods for creating a database of speeches hosted on this site:\n",
    "\n",
    "https://americanrhetoric.com/barackobamaspeeches.htm\n",
    "\n",
    "https://americanrhetoric.com/gwbushspeeches.htm\n",
    "\n",
    "Understand that this site does not contain all speeches and is not an authoritative resource for speeches, but it does provide a potentially useful data set for mapping and exploration.\n"
   ]
  },
  {
   "cell_type": "markdown",
   "metadata": {},
   "source": [
    "### STEP 1\n",
    "Scrape all of the necessary information from:\n",
    "\n",
    "https://americanrhetoric.com/barackobamaspeeches.htm\n",
    "\n",
    "and\n",
    "\n",
    "https://americanrhetoric.com/gwbushspeeches.htm\n",
    "\n",
    "You should result and a list of dictionaries for each case speech, along with the links to PDFs."
   ]
  },
  {
   "cell_type": "markdown",
   "metadata": {},
   "source": [
    "# Obama"
   ]
  },
  {
   "cell_type": "code",
   "execution_count": 52,
   "metadata": {},
   "outputs": [],
   "source": [
    "###Import your scraping libraries\n",
    "\n",
    "import requests\n",
    "import time\n",
    "import random\n",
    "import lxml\n",
    "from bs4 import BeautifulSoup\n",
    "import re\n",
    "import pandas as pd\n",
    "import numpy as np"
   ]
  },
  {
   "cell_type": "code",
   "execution_count": 53,
   "metadata": {},
   "outputs": [],
   "source": [
    "response = requests.get(\"https://americanrhetoric.com/barackobamaspeeches.htm\")\n",
    "page = BeautifulSoup(response.text, 'html.parser')"
   ]
  },
  {
   "cell_type": "code",
   "execution_count": 54,
   "metadata": {},
   "outputs": [
    {
     "name": "stdout",
     "output_type": "stream",
     "text": [
      "['speeches/barackobama/barackobamairaqwarspeechfederalplaza.htm', 'speeches/convention2004/barackobama2004dnc.htm', 'speeches/barackobama/barackobamasenatespeechonohioelectoralvotes.htm', 'speeches/barackobamaknoxcollege.htm', 'speeches/barackobama/barackobamasenatespeechrosaparks.htm', 'speeches/barackobama/barackobamasenatefloorspeechpatriotact.htm', 'speeches/barackobama/barackobamasenatespeechoncorettascottkingpassing.htm', 'speeches/barackobama/barackobamasenatespeechonvotingrightsactrenewal.htm', 'speeches/barackobamaexploratory.htm', 'speeches/barackobamacandidacyforpresident.htm', 'speeches/barackobama/barackobamabrownchapel.htm', 'speeches/barackobama/barackobamasenatespeechiraqfederalismamendment.htm', 'speeches/barackobama/barackobamasenatefloorspeechoniraqwar4years.htm', 'speeches/barackobama/barackobamasenatefloorimmigration.htm', 'speeches/barackobamawilsoncenter.htm', 'speeches/barackobama/barackobamajeffersonjacksondinner.htm', 'speeches/barackobama/barackobamaiowavictoryspeech.htm', 'speeches/barackobama/barackobamanewhampshireconcessionspeech.htm', 'speeches/barackobama/barackobamaebenezerbaptist.htm', 'speeches/barackobama/barackobamasouthcarolinavictory.htm', 'speeches/barackobamaperfectunion.htm', 'speeches/barackobamademocraticnominationvictoryspeech.htm', 'speeches/barackobama/barackobamairaqwarreaganbuilding.htm', 'speeches/barackobamaberlinspeech.htm', 'speeches/convention2008/barackobama2008dnc.htm', 'speeches/barackobama/barackobamasenatespeechonbailoutbill.htm', 'speeches/convention2008/barackobamavictoryspeech.htm', 'speeches/barackobama/barackobamafirstpressconference.htm', 'speeches/barackobama/barackobamaweeklytransition1.htm', 'speeches/barackobama/barackobamaweeklytransition2.htm', 'speeches/barackobama/barackobamaglobalclimatesummit.htm', 'speeches/barackobama/barackobamaweeklytransition3.htm', 'speeches/barackobama/barackobamaeconomicteamannouncement.htm', 'speeches/barackobama/barackobamamanagementandbudgetoffice.htm', 'speeches/barackobama/barackobamamanagementandbudgetoffice.htm', 'speeches/barackobama/barackobamaeconomicrecoveryadvisoryboard.htm', 'speeches/barackobama/barackobamaweeklytransition4thanksgiving.htm', 'speeches/barackobama/barackobamasecurityteamannouncement.htm', 'speeches/barackobama/barackobamasecretarycommerce.htm', 'speeches/barackobama/barackobamaweeklytransition5.htm', 'speeches/barackobama/barackobamaweeklytransition6.htm', 'speeches/barackobama/barackobamaweeklytransition7.htm', 'speeches/barackobama/barackobamaweeklytransition8.htm', 'speeches/barackobama/barackobamaweeklytransition9.htm', 'speeches/barackobama/barackobamapresseconomicrecoverypressconference.htm', 'speeches/barackobama/barackobamageorgemason.htm', 'speeches/barackobama/barackobamamintelligenceteam.htm', 'speeches/barackobama/barackobamaweeklytransition10.htm', 'speeches/barackobama/barackobamaweeklytransition11.htm', 'speeches/barackobama/barackobamapreinaugurallincolnmemorial.htm', 'speeches/barackobama/barackobamainauguraladdress.htm', 'speeches/barackobama/weeklyaddresses/barackobamaweekly1.htm', 'speeches/barackobama/barackobamaal-arabiya.htm', 'speeches/barackobama/barackobamaexecutivecompensation.htm', 'speeches/barackobama/barackobamafirstprimetimepressconference.htm', 'speeches/barackobama/barackobamalincolnbicentennialspeech.htm', 'speeches/barackobama/barackobamalincolnbirthdaybanquet.htm', 'speeches/barackobama/barackobamajointsession2009.htm', 'speeches/barackobama/barackobamacamplejeune2009.htm', 'speeches/barackobama/barackobamahispanicchamberofcommerce.htm', 'speeches/barackobama/barackobamag20summitpressconference.htm', 'speeches/barackobama/barackobamastrasbourgspeech.htm', 'speeches/barackobama/barackobamapraguespeech.htm', 'speeches/barackobama/barackobamaturkishparliament.htm', 'speeches/wariniraq/barackobamairaqtroops040709.htm', 'speeches/barackobama/barackobamaeconomicvisiongeorgetown.htm', 'speeches/barackobama/barackobamaCIAfirstvisit.htm', 'speeches/barackobama/barackobamaholocaustdaysofremembrance.htm', 'speeches/barackobama/barackobamawhitehousecorrespondentsdinner2009.htm', 'speeches/barackobama/barackobamajointpressbenjaminnetanyahu.htm', 'speeches/barackobama/barackobamanotredamecommencement.htm', 'speeches/barackobama/barackobamanationalarchives.htm', 'speeches/barackobama/barackobamacybersecurity.htm', 'speeches/barackobama/barackobamacairouniversity.htm', 'speeches/barackobama/barackobamabuchenwaldconcentrationcamp.htm', 'speeches/barackobama/barackobamadday65anniversary.htm', 'speeches/barackobama/barackobamaamericanmedicalassociation.htm', 'speeches/barackobama/barackobamauprisingiran.htm', 'speeches/barackobama/barackobamapressconferenceiranandhealthcare.htm', 'speeches/barackobama/barackobamaneweconomicschool.htm', 'speeches/barackobama/barackobamaghanaparliament.htm', 'speeches/barackobama/barackobamasurgeongeneralnomination.htm', 'speeches/barackobama/barackobamaamericangraduationinitiative.htm', 'speeches/barackobama/barackobamaeulogytedkennedy.htm', 'speeches/barackobama/barackobamabacktoschoolspeech.htm', 'speeches/barackobama/barackobamawaltercronkiteeulogy.htm', 'speeches/barackobama/barackobamajointsessionhealthcare.htm', 'speeches/barackobama/barackobama911pentagonmemorialspeech.htm', 'speeches/barackobama/barackobamaunitednations64.htm', 'speeches/barackobama/barackobamaforthoodmemorial.htm', 'speeches/barackobama/barackobamashanghaitownhall.htm', 'speeches/barackobama/barackobamawestpointafghanistan.htm', 'speeches/barackobama/barackobamakennedycenterhonorees2009.htm', 'speeches/barackobama/barackobamabrookingsinstitute.htm', 'speeches/barackobama/barackobamanobelprizespeech.htm', 'speeches/barackobama/barackobamaunitednationsclimatechange.htm', 'speeches/barackobama/barackobamaflight253terrorismiranviolence.htm', 'speeches/barackobama/barackobamasecurityreviewpressconference.htm', 'speeches/barackobama/barackobamaaviationsecurity.htm', 'speeches/barackobama/barackobamafinancialcrisisresponsiblityfee.htm', 'speeches/barackobama/barackobamamlkremembrancespeech.htm', 'speeches/barackobama/barackobamaloraincountytownhallspeech.htm', 'speeches/barackobama/barackobamaauschwitzbirkenauliberation65.htm', 'speeches/stateoftheunion2010.htm', 'speeches/barackobama/barackobamagophouseissuesconference.htm', 'speeches/barackobama/barackobama2010budgettocongress.htm', 'speeches/barackobama/barackobama2010prayerbreakfastspeech.htm', 'speeches/barackobama/barackobamajobshealthcarebriefing.htm', 'speeches/barackobama/barackobamahendersontownhall.htm', 'speeches/barackobama/barackobamaheathcarevotenow.htm', 'speeches/barackobama/barackobamanochildleftbehind.htm', 'speeches/barackobama/barackobamahealthcaregeorgemason.htm', 'speeches/barackobama/barackobamahousedemocraticcongresshealthcare.htm', 'speeches/barackobama/barackobamapassinghealthcarebill.htm', 'speeches/barackobama/barackobamahealthreformbillsigning.htm', 'speeches/barackobama/barackobamatroopsafghanistan.htm', 'speeches/barackobama/barackobamaenergysecurityandrewsafb.htm', 'speeches/barackobama/barackobamastarttreaty.htm', 'speeches/barackobama/barackobamawvminejusticestevens.htm', 'speeches/barackobama/barackobamanasaboldcourse.htm', 'speeches/barackobama/barackobamareformingwallstreet.htm', 'speeches/barackobama/barackobamaeulogycoalminers.htm', 'speeches/barackobama/barackobamadorothyheight.htm', 'speeches/barackobama/barackobamauniversityofmichigancommencement.htm', 'speeches/barackobama/barackobamawhitehousecorrespondentsdinner2010.htm', 'speeches/barackobama/barackobamaelenakagannomination.htm', 'speeches/barackobama/barackobamawestpointcommencement.htm', 'speeches/barackobama/barackobamagulfoilspillpresser.htm', 'speeches/barackobama/barackobamagrandeisleoilspillbriefing.htm', 'speeches/barackobama/barackobamacarnegiemellon.htm', 'speeches/barackobama/barackobamakalamazoocommencement.htm', 'speeches/barackobama/barackobamairansanctions.htm', 'speeches/barackobama/barackobamapensacolamilitary.htm', 'speeches/barackobama/barackobamabpoilspillovaloffice.htm', 'speeches/barackobama/barackobamanursesassociation.htm', 'speeches/barackobama/barackobamafathersday2010.htm', 'speeches/barackobama/barackobamamccrystalremovedafghanistan.htm', 'speeches/barackobama/barackobamacomprehensiveimmigrationreform.htm', 'speeches/barackobama/barackobamarobertbyrdeulogy.htm', 'speeches/barackobama/barackobamawallstreetreformactsigning.htm', 'speeches/barackobama/barackobamairaqendingcombat.htm', 'speeches/barackobama/barackobamaiftardinner.htm', 'speeches/wariniraq/barackobamairaqendofcombatops.htm', 'speeches/barackobama/barackobama911pentagonmemorial.htm', 'speeches/barackobama/barackobamaunitednations65.htm', 'speeches/barackobama/barackobamamidtermpresser.htm', 'speeches/barackobama/barackobamamumbaibusinesssummit.htm', 'speeches/barackobama/barackobamaindianparliament.htm', 'speeches/barackobama/barackobamaindonesiauniversity.htm', 'speeches/barackobama/barackobamagiuntamedalofhonor.htm', 'speeches/barackobama/barackobamabagramairfield.htm', 'speeches/barackobama/barackobamawjclintontaxcuts.htm', 'speeches/barackobama/barackobamatucsonmemorial.htm', 'speeches/stateoftheunion2011.htm', 'speeches/barackobama/barackobama2011prayerbreakfast.htm', 'speeches/barackobama/barackobamachamberofcommerce.htm', 'speeches/barackobama/barackobamanationalwirelessinitiative.htm', 'speeches/barackobama/barackobamaegyptrevolution.htm', 'speeches/barackobama/barackobamalibya.htm', 'speeches/barackobama/barackobamalibyawarning.htm', 'speeches/barackobama/barackobamalibyaltdmilitaryaction.htm', 'speeches/barackobama/barackobamariodejaneiro.htm', 'speeches/barackobama/barackobamachilespeech.htm', 'speeches/barackobama/barackobamalibyanationspeech.htm', 'speeches/barackobama/barackobamaamericanenergysecurity.htm', 'speeches/barackobama/barackobamafiscalpolicy2011.htm', 'speeches/barackobama/barackobama2012prescandidacy.htm', 'speeches/barackobama/barackobamabirthcertificatespeech.htm', 'speeches/barackobama/barackobamaalabamatornado.htm', 'speeches/barackobama/barackobamamiamidadecommencement.htm', 'speeches/barackobama/barackobamawhitehousecorrespondentsdinner2011.htm', 'speeches/barackobama/barackobamaosamabinladendeath.htm', 'speeches/barackobama/barackobamafortcampbellkytroops.htm', 'speeches/barackobama/barackobamabookertwashington.htm', 'speeches/barackobama/barackobamamiddleeastpolicy.htm', 'speeches/barackobama/barackobamamiddleeastpolicy.htm', 'speeches/barackobama/barackobamaciaheadquarters.htm', 'speeches/barackobama/barackobamabenjaminnetanyahujointpress.htm', 'speeches/barackobama/barackobamaaipacpc2011.htm', 'speeches/barackobama/barackobamabritishparliament.htm', 'speeches/barackobama/barackobamajoplinmemorial.htm', 'speeches/barackobama/barackobamadefensepersonnel.htm', 'speeches/barackobama/barackobamaafghanistanwardrawdown.htm', 'speeches/barackobama/barackobamacarnegiemellonrobotics.htm', 'speeches/barackobama/barackobamajobgrowthpresser.htm', 'speeches/barackobama/barackobamadeficitreductionplan.htm', 'speeches/barackobama/barackobamadebtapprovalstmt.htm', 'speeches/barackobama/barackobamadebtcompromise.htm', 'speeches/barackobama/barackobamaamericanlegion2011.htm', 'speeches/barackobama/barackobamajointsessionjobs.htm', 'speeches/barackobama/barackobamaeconomicplandebtreductionbill.htm', 'speeches/barackobama/barackobamaunlibya.htm', 'speeches/barackobama/barackobamaunitednations66.htm', 'speeches/barackobama/barackobamamlkmemorialdedication.htm', 'speeches/barackobama/barackobamaqaddafideath.htm', 'speeches/wariniraq/barackobamaendingiraqwar.htm', 'speeches/barackobama/barackobamaaustralianparliament.htm', 'speeches/barackobama/barackobamatribalnationsconference.htm', 'speeches/barackobama/barackobamaosawatomieeconomy.htm', 'speeches/barackobama/barackobamaweeklyaddress17dec2011.htm', 'speeches/barackobama/barackobamamilitarystrategychanges.htm', 'speeches/stateoftheunion2012.htm', 'speeches/barackobama/barackobamahousingfallschurch.htm', 'speeches/barackobama/barackobamaveteransjobscorps.htm', 'speeches/barackobama/barackobamairaqwarveterangala.htm', 'speeches/barackobama/barackobamaaipac2012.htm', 'speeches/barackobama/barackobamahankukuniversity.htm', 'speeches/barackobama/barackobamagasoilsubsidies.htm', 'speeches/barackobama/barackobamaapluncheon.htm', 'speeches/barackobama/barackobamanationalholocaustmemorialmuseum.htm', 'speeches/barackobama/barackobamawhitehousecorrespondentsdinner2012.htm', 'speeches/barackobama/barackobamabarnardcollegecommencement.htm', 'speeches/barackobama/barackobamashimonperesemedaloffreedom.htm', 'speeches/barackobama/barackobamausschealthcareruling.htm', 'speeches/barackobama/barackobamaauroratragedy.htm', 'speeches/barackobama/barackobama113vfw.htm', 'speeches/convention2012/barackobama2012dnc.htm', 'speeches/barackobama/barackobamabenghaziattacks.htm', 'speeches/barackobama/barackobamabenghazivictims.htm', 'speeches/barackobama/barackobamaclintonglobalinitiative2012.htm', 'speeches/barackobama/barackobamaunitednations67.htm', 'speeches/obama-romneyfirstdebate.htm', 'speeches/obama-romneyseconddebate.htm', 'speeches/obama-romneythirddebate.htm', 'speeches/barackobama/barackobamahurricanesandy29oct.htm', 'speeches/barackobama/barackobamahurricanesandy29oct.htm', 'speeches/barackobama/barackobamaredcross.htm', 'speeches/barackobama/barackobamasecondpresidentialvictoryspeech.htm', 'speeches/barackobama/barackobamapostelectioneconomy.htm', 'speeches/barackobama/barackobamapresserpetraeus.htm', 'speeches/barackobama/barackobamayangonuniversity.htm', 'speeches/barackobama/barackobamanewtownshooting.htm', 'speeches/barackobama/barackobamanewtownshooting.htm', 'speeches/barackobama/barackobamanewtownvigilspeech.htm', 'speeches/barackobama/barackobamagunviolencepresser.htm', 'speeches/barackobama/barackobamadanielinouyeeulogy.htm', 'speeches/barackobama/barackobamafinalfirsttermpresser.htm', 'speeches/barackobama/barackobamagunviolenceexecacts.htm', 'speeches/barackobama/barackobamasecondinauguraladdress.htm', 'speeches/barackobama/barackobamaimmagrationreform.htm', 'speeches/stateoftheunion2013.htm', 'speeches/barackobama/barackobamamiddleclasseconomy.htm', 'speeches/barackobama/barackobamasequesternewportnews.htm', 'speeches/barackobama/barackobamarosaparksstatue.htm', 'speeches/barackobama/barackobamajerusalemconventioncenter.htm', 'speeches/barackobama/barackobamachildrensmemorialyadvashem.htm', 'speeches/barackobama/barackobamabraininitiative.htm', 'speeches/barackobama/barackobamagunviolencereductiondenver.htm', 'speeches/barackobama/barackobamagunviolencereductionconnecticut.htm', 'speeches/barackobama/barackobamaemilkapaunmedalofhonor.htm', 'speeches/barackobama/barackobamabostonmarathonexplosionsfirststatement.htm', 'speeches/barackobama/barackobamabostonmarathonexplosionssecondstatement.htm', 'speeches/barackobama/barackobamasenateguncontrolbillvote.htm', 'speeches/barackobama/barackobamabostoninterfaithprayerservice.htm', 'speeches/barackobama/barackobamabostonmarathonexplosionsthirdstatement.htm', 'speeches/barackobama/barackobamagwbushlibrarydedication.htm', 'speeches/barackobama/barackobamawestfertilizerplantmemorial.htm', 'speeches/barackobama/barackobamawhitehousecorrespondentsdinner2013.htm', 'speeches/barackobama/barackobamasyriaetalpresser.htm', 'speeches/barackobama/barackobamamexicopeople.htm', 'speeches/barackobama/barackobamairsmisconduct.htm', 'speeches/barackobama/barackobamamorehousecollegecommencement.htm', 'speeches/barackobama/barackobamanationaldefenseuniversity.htm', 'speeches/barackobama/barackobamanavalacademycommencement.htm', 'speeches/barackobama/barackobamasanjosesurveillance.htm', 'speeches/barackobama/barackobamaimmigrationreformcomprehensive.htm', 'speeches/barackobama/barackobamanorthernireland.htm', 'speeches/barackobama/barackobamabrandenburggate.htm', 'speeches/barackobama/barackobamacapetownuniversity.htm', 'speeches/barackobama/barackobamatrayvonmartin.htm', 'speeches/barackobama/barackobamaknoxcollegeeconomy.htm', 'speeches/barackobama/barackobamakoreanwar60tharmistice.htm', 'speeches/barackobama/barackobamaintelreformpresser.htm', 'speeches/barackobama/barackobamaletfreedomringceremony.htm', 'speeches/barackobama/barackobamasyriachemicalweapons.htm', 'speeches/barackobama/barackobamasyrianation.htm', 'speeches/barackobama/barackobamanavyyardshootingmemorial.htm', 'speeches/barackobama/barackobamaunitednations68.htm', 'speeches/barackobama/barackobamaclintonglobalinitiative.htm', 'speeches/barackobama/barackobamagovernmentshutdown.htm', 'speeches/barackobama/barackobamaaffordablecareactwebsiteproblems.htm', 'speeches/barackobama/barackobamaveteransday2013.htm', 'speeches/barackobama/barackobamaaffordablecareactchanges.htm', 'speeches/barackobama/barackobamairanaccordstatement.htm', 'speeches/barackobama/barackobamamandelapassing.htm', 'speeches/barackobama/barackobamanelsonmandelamemorial.htm', 'speeches/barackobama/barackobamafinal2013presser.htm', 'speeches/barackobama/barackobamasignalsintelreview.htm', 'speeches/stateoftheunion2014.htm', 'speeches/barackobama/barackobama2014prayerbreakfast.htm', 'speeches/barackobama/barackobamaeuropeanyouth.htm', 'speeches/barackobama/barackobamaaustincivilrights.htm', 'speeches/barackobama/barackobamapressconference04-17-14.htm', 'speeches/barackobama/barackobamapmabejapanjointpresser.htm', 'speeches/barackobama/barackobamaYSEALIMalaysia.htm', 'speeches/barackobama/barackobamabenignoaquinojointpresser.htm', 'speeches/barackobama/barackobamafortbonifacio.htm', 'speeches/barackobama/barackobamawhitehousecorrespondentsdinner2014.htm', 'speeches/barackobama/barackobamavamisconductallegations.htm', 'speeches/barackobama/barackobamawestpointcommencement2014.htm', 'speeches/barackobama/barackobamaveteransaffairsmisconduct.htm', 'speeches/barackobama/barackobamafreedomdaypoland.htm', 'speeches/barackobama/barackobamadday70.htm', 'speeches/barackobama/barackobamaimmigrationbordersecurity.htm', 'speeches/barackobama/barackobamaflightmh17.htm', 'speeches/barackobama/barackobamaryanpittsmedalofhonor.htm', 'speeches/barackobama/barackobamaeconomyforeignpolicy.htm', 'speeches/barackobama/barackobamairaqairstrikehumanitarianeffort.htm', 'speeches/barackobama/barackobamairaqairstrikehumanitarianeffortupdate.htm', 'speeches/barackobama/barackobamafergusonmissouri.htm', 'speeches/barackobama/barackobamairaqukraine.htm', 'speeches/barackobama/barackobamajointpressertoomasilves.htm', 'speeches/barackobama/barackobamaestoniapeople.htm', 'speeches/barackobama/barackobamaisilspeechtonation.htm', 'speeches/barackobama/barackobamaebolacdc.htm', 'speeches/barackobama/barackobamaunitednations69.htm', 'speeches/barackobama/barackobamaunitednationssecuritycouncil2014.htm', 'speeches/barackobama/barackobamaunitednationsebola.htm', 'speeches/barackobama/barackobamexecutiveorder13681acfpb.htm', 'speeches/barackobama/barackobamaebolaresponseupdate.htm', 'speeches/barackobama/barackobamamidtermrepublicanvictorypresser.htm', 'speeches/barackobama/barackobamasuukyipresser.htm', 'speeches/barackobama/barackobamaYSEALIMyanmar.htm', 'speeches/barackobama/barackobamaimmigrationnationalpolicy.htm', 'speeches/barackobama/barackobamaebolavaccineNIH.htm', 'speeches/barackobama/barackobamacubapolicychanges.htm', 'speeches/barackobama/barackobamafinal2014presser.htm', 'speeches/barackobama/barackobamacommunitycollegefreeplan.htm', 'speeches/barackobama/barackobamaftc2014.htm', 'speeches/barackobama/barackobamanccic.htm', 'speeches/stateoftheunion2015.htm', 'speeches/barackobama/barackobamaindia2015.htm', 'speeches/barackobama/barackobama2015prayerbreakfast.htm', 'speeches/barackobama/barackobamaISILforceauthorization.htm', 'speeches/barackobama/barackobamastanfordcybersecurity.htm', 'speeches/barackobama/barackobamaviolentreligiousextremism.htm', 'speeches/barackobama/barackobamairanpmnetanyahucongressspeech.htm', 'speeches/barackobama/barackobamaselma50anniversarymarch.htm', 'speeches/barackobama/barackobamastudentaidbillofrights.htm', 'speeches/barackobama/barackobamatedkennedyinstitutededication.htm', 'speeches/barackobama/barackobamairannuclearagreement.htm', 'speeches/barackobama/barackobamaYLAIJamaica.htm', 'speeches/barackobama/barackobamacivilsocietyforum.htm', 'speeches/barackobama/barackobamapanamapostpresser.htm', 'speeches/barackobama/barackobamasummitamericasplenarysession.htm', 'speeches/barackobama/barackobamahostagedronedeaths.htm', 'speeches/barackobama/barackobamawhitehousecorrespondentsdinner2015.htm', 'speeches/barackobama/barackobamatradenike.htm', 'speeches/barackobama/barackobamaadasisraelcongregation.htm', 'speeches/barackobama/barackobamaYSEALIWashingtonDC.htm', 'speeches/barackobama/barackobamabeaubideneulogy.htm', 'speeches/barackobama/barackobamaG7conference2015.htm', 'speeches/barackobama/barackobamalorettalynchinvestiture.htm', 'speeches/barackobama/barackobamasouthcarolinashooting.htm', 'speeches/barackobama/barackobamamayorsconference2015.htm', 'speeches/barackobama/barackobamahostagepolicyreview.htm', 'speeches/barackobama/barackobamaaffordablecareactUSSC.htm', 'speeches/barackobama/barackobamaclementapinckneyeulogy.htm', 'speeches/barackobama/barackobamaisilprogresspentagon.htm', 'speeches/barackobama/barackobamaagingconference.htm', 'speeches/barackobama/barackobamanaacp2015.htm', 'speeches/barackobama/barackobamairannucleardealfinal.htm', 'speeches/barackobama/barackobamairannuclearaccordfinalpresser.htm', 'speeches/barackobama/barackobamakenyacivilsociety.htm', 'speeches/barackobama/barackobamakenyapeople.htm', 'speeches/barackobama/barackobamaafricancontinentreps.htm', 'speeches/barackobama/barackobamacleanpowerplan.htm', 'speeches/barackobama/barackobamairanamericanuniversity.htm', 'speeches/barackobama/barackobamakatrinahurricane10years.htm', 'speeches/barackobama/barackobamaworldwidetrooptalk.htm', 'speeches/barackobama/barackobamacongressionalblackcaucus2015.htm', 'speeches/barackobama/barackobamapopefranciswhitehousewelcome.htm', 'speeches/barackobama/barackobamamartindempseyretirement.htm', 'speeches/barackobama/barackobamaunitednations70.htm', 'speeches/barackobama/barackobamaumpquashootings.htm', 'speeches/barackobama/barackobamapressconference10-02-15.htm', 'speeches/barackobama/barackobamaafghanistanstatement.htm', 'speeches/barackobama/barackobamawestvirginiacommunityforum.htm', 'speeches/barackobama/barackobamaparisterrorattacks.htm', 'speeches/barackobama/barackobamaburundipeoplemessage.htm', 'speeches/barackobama/barackobamaturkeypresser.htm', 'speeches/barackobama/barackobamaASEAN2015.htm', 'speeches/barackobama/barackobamamalaysiapresser2015.htm', 'speeches/barackobama/barackobamafrancoishollandpresser.htm', 'speeches/barackobama/barackobamafrancoishollandpresser.htm', 'speeches/barackobama/barackobamacop21.htm', 'speeches/barackobama/barackobamaparispressconference.htm', 'speeches/barackobama/barackobamaforeigndomesticterrorismresponseovaloffice.htm', 'speeches/barackobama/barackobama13thamendment150anniversary.htm', 'speeches/barackobama/barackobamaeverystudentsucceeds.htm', 'speeches/barackobama/barackobamaparisclimateagreement.htm', 'speeches/barackobama/barackobamacounterISILupdate12-14-15.htm', 'speeches/barackobama/barackobamanaturalizationnationalarchives.htm', 'speeches/barackobama/barackobamanationalcounterterrorismcenter.htm', 'speeches/barackobama/barackobamafinal2015presser.htm', 'speeches/barackobama/weeklyaddresses/barackobamaweekly1-1-16.htm', 'speeches/barackobama/barackobamagunviolencereduction.htm', 'speeches/barackobama/barackobamagunsinamericancnntownhall.htm', 'speeches/stateoftheunion2016.htm', 'speeches/barackobama/barackobamairansanctionslifted.htm', 'speeches/barackobama/barackobamarighteousamongnationsceremony.htm', 'speeches/barackobama/barackobamaislamicsocietybaltimore.htm', 'speeches/barackobama/barackobama2016prayerbreakfast.htm', 'speeches/barackobama/barackobamagoldenstatewarriors.htm', 'speeches/barackobama/barackobamailliinoisgeneralassembly.htm', 'speeches/barackobama/barackobamaantoninscaliapassing.htm', 'speeches/barackobama/barackobamaASEANpresser.htm', 'speeches/barackobama/barackobamaweeklyaddresscubanewchapter.htm', 'speeches/barackobama/barackobamaguantanamobayclosing.htm', 'speeches/barackobama/barackobamaISILupdate.htm', 'speeches/barackobama/barackobamarecoveryandreinvestmentact.htm', 'speeches/barackobama/barackobamasxsw.htm', 'speeches/barackobama/barackobamamerrickgarlandnomination.htm', 'speeches/barackobama/barackobamaraulcastropresser.htm', 'speeches/barackobama/barackobamacubaentrepreneurs.htm', 'speeches/barackobama/barackobamacubapeoplespeech.htm', 'speeches/barackobama/barackobamaYLAIArgentina.htm', 'speeches/barackobama/barackobamadavidsimonthewire.htm', 'speeches/barackobama/barackobamanuclearsummitpresser.htm', 'speeches/barackobama/barackobamausscconversation.htm', 'speeches/barackobama/barackobamasaudiarabiapresser.htm', 'speeches/barackobama/barackobamalondontownhall.htm', 'speeches/barackobama/barackobamaeuropehanover.htm', 'speeches/barackobama/barackobamawhitehousecorrespondentsdinner2016.htm', 'speeches/barackobama/barackobamaflintmichigancommunity.htm', 'speeches/barackobama/barackobamahowarduniversitycommencement.htm', 'speeches/barackobama/weeklyaddresses/barackobamaweeklyaddictionmacklemore.htm', 'speeches/barackobama/barackobamanationalconventioncentervietnam.htm', 'speeches/barackobama/barackobamavietnambusinessdevelopment.htm', 'speeches/barackobama/barackobamaYSEALIVietnam.htm', 'speeches/barackobama/barackobamashinzoabepresser.htm', 'speeches/barackobama/barackobamajapanpostG7presser.htm', 'speeches/barackobama/barackobamahiroshimaspeech.htm', 'speeches/barackobama/barackobamaairforceacademycommencement.htm', 'speeches/barackobama/barackobamahillaryclintonpresidentialendorsement.htm', 'speeches/barackobama/barackobamaorlandoshootings.htm', 'speeches/barackobama/barackobamaISILcounter.htm', 'speeches/barackobama/barackobamaunitedstateofwomensummit.htm', 'speeches/barackobama/barackobamaorlandocommunitystmt.htm', 'speeches/barackobama/barackobamausvstexasimmigration.htm', 'speeches/barackobama/barackobamapostnatopresser2016.htm', 'speeches/barackobama/barackobamadallaspolicememorial.htm', 'speeches/convention2016/barackobamadnc2016.htm', 'speeches/barackobama/barackobamaisilpressconference.htm', 'speeches/barackobama/barackobamabatonrougeflooding.htm', 'speeches/barackobama/barackobamag20chinapresser.htm', 'speeches/barackobama/barackobamalaospeople.htm', 'speeches/barackobama/barackobamapostASEANpresser.htm', 'speeches/barackobama/barackobama91115years.htm', 'speeches/barackobama/barackobamanewyorkandnewjerseyexplosions.htm', 'speeches/barackobama/barackobamaunitednations71.htm', 'speeches/barackobama/barackobamaafricanamericanhistorymuseum.htm', 'speeches/barackobama/barackobamashimonperesmemorial.htm', 'speeches/barackobama/barackobama2016presidentialelectionoutcome.htm', 'speeches/barackobama/barackobamadonaldtrumpmeeting.htm', 'speeches/barackobama/barackobamapostelectionpresser.htm', 'speeches/barackobama/barackobamagreecepeople.htm', 'speeches/barackobama/barackobamaangelamerkelpresser2016.htm', 'speeches/barackobama/barackobamaYLAI2016.htm', 'speeches/barackobama/barackobamaperupressconference.htm', 'speeches/barackobama/barackobamakennedycenter2016.htm', 'speeches/barackobama/barackobamacounterterrorismapproach2016.htm', 'speeches/barackobama/barackobamafinalpresidentialpressconference.htm', 'speeches/barackobama/barackobamapearlhbarbor.htm', 'speeches/barackobama/barackobamafarwellarmedforces.htm', 'speeches/barackobama/barackobamaVOXinterview.htm', 'speeches/barackobama/barackobamafarewelladdress.htm', 'speeches/barackobama/barackobamajoebidenmedaloffreedom.htm', 'speeches/barackobama/barackobamafinalweeklyaddress.htm', 'speeches/barackobama/barackobamachicagocubsMLBchamps.htm', 'speeches/barackobama/barackobamafinalpressconference.htm', 'speeches/barackobama/barackobamafarewelltostaffandrewsaft.htm']\n"
     ]
    },
    {
     "data": {
      "text/plain": [
       "472"
      ]
     },
     "execution_count": 54,
     "metadata": {},
     "output_type": "execute_result"
    }
   ],
   "source": [
    "###Write your scraping code here\n",
    "def filter_link(link):\n",
    "    href = link.get('href')\n",
    "    if href:\n",
    "        return href.startswith('speeches') and href.endswith('.htm')\n",
    "\n",
    "links = page.find_all('a')\n",
    "urls = filter(filter_link, links)\n",
    "urls = [url.get('href') for url in urls]\n",
    "print(urls)\n",
    "len(urls)\n",
    "#472 speeches in total"
   ]
  },
  {
   "cell_type": "code",
   "execution_count": 55,
   "metadata": {},
   "outputs": [
    {
     "data": {
      "text/plain": [
       "'http://www.americanrhetoric.com/speeches/barackobama/barackobamairaqwarspeechfederalplaza.htm'"
      ]
     },
     "execution_count": 55,
     "metadata": {},
     "output_type": "execute_result"
    }
   ],
   "source": [
    "full_urls = []\n",
    "for url in urls:\n",
    "    url = f\"http://www.americanrhetoric.com/{url}\"\n",
    "    full_urls.append(url)\n",
    "full_urls[0]"
   ]
  },
  {
   "cell_type": "markdown",
   "metadata": {},
   "source": [
    "### Now I have all the urls!!!"
   ]
  },
  {
   "cell_type": "code",
   "execution_count": null,
   "metadata": {},
   "outputs": [],
   "source": [
    "###Import that database into pandas\n",
    "###Export/save as CSV"
   ]
  },
  {
   "cell_type": "code",
   "execution_count": 67,
   "metadata": {},
   "outputs": [
    {
     "data": {
      "text/html": [
       "<div>\n",
       "<style scoped>\n",
       "    .dataframe tbody tr th:only-of-type {\n",
       "        vertical-align: middle;\n",
       "    }\n",
       "\n",
       "    .dataframe tbody tr th {\n",
       "        vertical-align: top;\n",
       "    }\n",
       "\n",
       "    .dataframe thead th {\n",
       "        text-align: right;\n",
       "    }\n",
       "</style>\n",
       "<table border=\"1\" class=\"dataframe\">\n",
       "  <thead>\n",
       "    <tr style=\"text-align: right;\">\n",
       "      <th></th>\n",
       "      <th>url</th>\n",
       "    </tr>\n",
       "  </thead>\n",
       "  <tbody>\n",
       "    <tr>\n",
       "      <th>0</th>\n",
       "      <td>http://www.americanrhetoric.com/speeches/barac...</td>\n",
       "    </tr>\n",
       "    <tr>\n",
       "      <th>1</th>\n",
       "      <td>http://www.americanrhetoric.com/speeches/conve...</td>\n",
       "    </tr>\n",
       "    <tr>\n",
       "      <th>2</th>\n",
       "      <td>http://www.americanrhetoric.com/speeches/barac...</td>\n",
       "    </tr>\n",
       "    <tr>\n",
       "      <th>3</th>\n",
       "      <td>http://www.americanrhetoric.com/speeches/barac...</td>\n",
       "    </tr>\n",
       "    <tr>\n",
       "      <th>4</th>\n",
       "      <td>http://www.americanrhetoric.com/speeches/barac...</td>\n",
       "    </tr>\n",
       "  </tbody>\n",
       "</table>\n",
       "</div>"
      ],
      "text/plain": [
       "                                                 url\n",
       "0  http://www.americanrhetoric.com/speeches/barac...\n",
       "1  http://www.americanrhetoric.com/speeches/conve...\n",
       "2  http://www.americanrhetoric.com/speeches/barac...\n",
       "3  http://www.americanrhetoric.com/speeches/barac...\n",
       "4  http://www.americanrhetoric.com/speeches/barac..."
      ]
     },
     "execution_count": 67,
     "metadata": {},
     "output_type": "execute_result"
    }
   ],
   "source": [
    "df = pd.DataFrame(full_urls)\n",
    "df.columns = ['url']\n",
    "df.head()\n"
   ]
  },
  {
   "cell_type": "code",
   "execution_count": 68,
   "metadata": {},
   "outputs": [],
   "source": [
    "df.to_csv(\"obama.csv\", index= False)\n",
    "df = pd.read_csv(\"obama.csv\")"
   ]
  },
  {
   "cell_type": "code",
   "execution_count": 71,
   "metadata": {},
   "outputs": [
    {
     "data": {
      "text/plain": [
       "(472, 1)"
      ]
     },
     "execution_count": 71,
     "metadata": {},
     "output_type": "execute_result"
    }
   ],
   "source": [
    "df.shape"
   ]
  },
  {
   "cell_type": "code",
   "execution_count": 16,
   "metadata": {},
   "outputs": [
    {
     "data": {
      "text/html": [
       "<div>\n",
       "<style scoped>\n",
       "    .dataframe tbody tr th:only-of-type {\n",
       "        vertical-align: middle;\n",
       "    }\n",
       "\n",
       "    .dataframe tbody tr th {\n",
       "        vertical-align: top;\n",
       "    }\n",
       "\n",
       "    .dataframe thead th {\n",
       "        text-align: right;\n",
       "    }\n",
       "</style>\n",
       "<table border=\"1\" class=\"dataframe\">\n",
       "  <thead>\n",
       "    <tr style=\"text-align: right;\">\n",
       "      <th></th>\n",
       "      <th>url</th>\n",
       "    </tr>\n",
       "  </thead>\n",
       "  <tbody>\n",
       "    <tr>\n",
       "      <th>0</th>\n",
       "      <td>http://www.americanrhetoric.com/speeches/barac...</td>\n",
       "    </tr>\n",
       "    <tr>\n",
       "      <th>1</th>\n",
       "      <td>http://www.americanrhetoric.com/speeches/conve...</td>\n",
       "    </tr>\n",
       "    <tr>\n",
       "      <th>2</th>\n",
       "      <td>http://www.americanrhetoric.com/speeches/barac...</td>\n",
       "    </tr>\n",
       "    <tr>\n",
       "      <th>3</th>\n",
       "      <td>http://www.americanrhetoric.com/speeches/barac...</td>\n",
       "    </tr>\n",
       "    <tr>\n",
       "      <th>4</th>\n",
       "      <td>http://www.americanrhetoric.com/speeches/barac...</td>\n",
       "    </tr>\n",
       "  </tbody>\n",
       "</table>\n",
       "</div>"
      ],
      "text/plain": [
       "                                                 url\n",
       "0  http://www.americanrhetoric.com/speeches/barac...\n",
       "1  http://www.americanrhetoric.com/speeches/conve...\n",
       "2  http://www.americanrhetoric.com/speeches/barac...\n",
       "3  http://www.americanrhetoric.com/speeches/barac...\n",
       "4  http://www.americanrhetoric.com/speeches/barac..."
      ]
     },
     "execution_count": 16,
     "metadata": {},
     "output_type": "execute_result"
    }
   ],
   "source": [
    "df.head()"
   ]
  },
  {
   "cell_type": "code",
   "execution_count": 197,
   "metadata": {},
   "outputs": [],
   "source": [
    "speeches = []\n",
    "for url in full_urls:\n",
    "    response = requests.get(url)\n",
    "    page_data = BeautifulSoup(response.content)\n",
    "    try:\n",
    "        speech_data = page_data.find_all(\"font\", {\"face\": \"Verdana\"})\n",
    "        speeches.append(speech_data)\n",
    "    except:\n",
    "        pass"
   ]
  },
  {
   "cell_type": "code",
   "execution_count": 199,
   "metadata": {},
   "outputs": [
    {
     "data": {
      "text/plain": [
       "472"
      ]
     },
     "execution_count": 199,
     "metadata": {},
     "output_type": "execute_result"
    }
   ],
   "source": [
    "len(speeches)"
   ]
  },
  {
   "cell_type": "code",
   "execution_count": 200,
   "metadata": {},
   "outputs": [
    {
     "data": {
      "text/plain": [
       "\"[Please be seated. Good morning, everybody. Yesterday we talked about the need to jump-start our economy. I speak to you today, mindful that we meet at a moment of great challenge for America, as our credit markets are stressed, and our families are struggling. But as difficult as these times are, I’m confident that we're going to rise to meet this challenge -- if we’re willing to band together and recognize that Wall Street cannot thrive so long as Main Street is struggling; if we’re willing to summon a new spirit of ingenuity and determination; and if Americans of great intellect, broad experience, and good character are willing to serve in our government at its hour of need. Yesterday, I announced four such Americans to help lead the economic team that will advise me as we seek to climb out of this crisis. Today, I'm pleased to announce two other key members of our team:Peter Orszag as Director, and Robert Nabors as Deputy Director of the Office of Management and Budget. Before I explain why I selected these outstanding public servants, let me say a few words about the work that I'm asking them to undertake. As I said yesterday, the economic crisis we face demands that we invest immediately in a series of measures that will help save or create two and a half million jobs and put tax cuts in the pockets of the hard-pressed middle class. Many of those new jobs will come in areas such as energy independence, technology, and health care modernization that will strengthen our economy over the long term. But if we are going to make the investments we need, we also have to be willing to shed the spending that we don’t need. In these challenging times, when we're facing both rising deficits and a shrinking economy, budget reform is not an option; it's a necessity. We can't sustain a system that bleeds billions of taxpayer dollars on programs that have outlived their usefulness, or exist solely because of the power of politicians, lobbyists, or interest groups. We simply can't afford it. This isn’t about big government or small government. It’s about building a smarter government that focuses on what works. That's why I will ask my new team to think anew and act anew to meet our new challenges. We are going to go through our federal budget, as I promised during the campaign -- page by page, line by line -- eliminating those programs we don’t need, and insisting that those that we do need operate in a sensible, cost-effective way. Let me just give you one example of what I’m talking about. There’s a report today from -- that from 2003 to 2006, millionaire farmers received 49 million dollars in crop subsidies even though they were earning more than the 2.5 million cutoff for such subsidies. Now, if this is true -- and this was just a report this morning -- but if it's true, it is a prime example of the kind of waste that I intend to end as President. We're also going to focus on one of the biggest, long-run challenges that our budget faces -- namely, the rising cost of health care in both the public and private sectors. This is not just a challenge but also an opportunity to improve the health care that Americans rely on and to bring down the costs that taxpayers, businesses, and families have to pay. Now, that's what the Office of Management and Budget will do in my Administration. It will not only help design a budget and manage its implementation, but it's also going to make sure that our government -- your government -- is more efficient and more effective at serving the American people. And there is no better person to help lead this effort as Director of the OMB than my friend Peter Orszag. Peter's been one of our nation’s leading voices on budgetary issues. It's said that a nation’s budget reflects its values and its priorities. I believe that's true. And I know that Peter will bring to his work at the OMB a set of priorities that I -- and the American people -- share. Throughout his career, he's made significant contributions in our understanding of all the major economic challenges that we're now confronting -- from reducing medical costs to saving Social Security to fighting global climate change to helping put the dream of a college degree within the reach for more students. As Director of the Congressional Budget Office, he reenergized and reinvigorated the agency, while shifting its focus to confront the health care crisis that is not only a cause of so much suffering for so many families, but a rapidly growing portion of our budget and a drag on our entire economy. But it's not simply that Peter’s past career makes him qualified for this new appointment; it's also that he has a vision for the future that I share. He believes, as I do, that even as we take steps to restore discipline to our budget, we also have to take -- take the steps right now that are necessary to solve our immediate crisis. Peter doesn’t need a map to tell him where the bodies are buried in the federal budget. He knows what works and what doesn’t, what's worthy of our precious tax dollars and what is not. Just because a program, a special interest tax break, or corporate subsidy is hidden in this year’s budget, does not mean that it will survive the next. The old ways of Washington simply can’t meet the challenges of today and tomorrow. And no one's more able or more qualified to assist Peter in this work than Deputy Director of the OMB that I am nominating, Robert Nabors. Rob will bring to this post experience in the Executive Branch, at the OMB, where he helped the Clinton Administration achieve balanced budgets, as well as in the Legislative Branch, where he led the Appropriations Committee staff as a driving force for a responsible budget. Together, Peter and Rob will help steer our budget through Congress so that I can sign it into law. Now, let me be clear: These appointments, as well as the appointments that I announced yesterday, are not the sum of my economic team. These appointments are going to work closely with those that I have not ye[t] announced -- those including the secretaries of Energy and Labor, Commerce, and Health and Human Services, as well as others in my Administration -- to design a recovery path for both Wall Street and Main Street, and to put our economy on a path to long-term growth and prosperity. Because at this moment, we must not only restore confidence in our markets. We also must restore the confidence of middle class families that their government is on their side, that it’s working for them and on their behalf to meet their families’ needs. That's what I intend to do as President of the United States.\""
      ]
     },
     "execution_count": 200,
     "metadata": {},
     "output_type": "execute_result"
    }
   ],
   "source": [
    "clean_speeches= []\n",
    "for speech in speeches:\n",
    "    a = re.sub('<[^<]+?>', '', str(speech))\n",
    "    b = re.sub('\\r\\n\\t\\t', '', str(a))  \n",
    "    c = re.sub('\\.,', '.', str(b))\n",
    "    d = re.sub('\\r\\n', '', str(c))\n",
    "    e = re.sub('\\n', '', str(d))\n",
    "    f = re.sub('\\xa0', '', str(e))\n",
    "    h = re.sub('\\t', '', str(f))\n",
    "    i = re.sub('\\s,\\s([Book/CDs].*)', '',str(h))\n",
    "    j = str(i).replace('\\\\', '')\n",
    "    clean_speeches.append(i)\n",
    "clean_speeches[34]\n"
   ]
  },
  {
   "cell_type": "code",
   "execution_count": 137,
   "metadata": {},
   "outputs": [
    {
     "data": {
      "text/plain": [
       "[None, 'Delivered 20 January 2008, \\r\\nEbenezer Baptist Church, Atlanta']"
      ]
     },
     "execution_count": 137,
     "metadata": {},
     "output_type": "execute_result"
    }
   ],
   "source": [
    "urltest = 'http://www.americanrhetoric.com/speeches/barackobama/barackobamaebenezerbaptist.htm'\n",
    "response = requests.get(urltest)\n",
    "page_data = BeautifulSoup(response.content)\n",
    "dates=[]\n",
    "try:\n",
    "    speech_date = page_data.find(\"font\", face='Arial', color='#CE0A04')\n",
    "    dates.append(speech_date)\n",
    "    if speech_date == None:\n",
    "        speech_date = page_data.find(class_=\"MsoNormal\").text.strip()\n",
    "        dates.append(speech_date)\n",
    "except:\n",
    "    pass\n",
    "    \n",
    "dates\n",
    "        "
   ]
  },
  {
   "cell_type": "markdown",
   "metadata": {},
   "source": [
    "text 33 34"
   ]
  },
  {
   "cell_type": "code",
   "execution_count": 142,
   "metadata": {},
   "outputs": [],
   "source": [
    "dates=[]\n",
    "for url in full_urls:\n",
    "    response = requests.get(url)\n",
    "    page_data = BeautifulSoup(response.content)\n",
    "    try:\n",
    "        speech_date = page_data.find(\"font\", face='Arial', color='#CE0A04')\n",
    "        dates.append(speech_date)\n",
    "        if speech_date == None:\n",
    "            speech_date = page_data.find(class_=\"MsoNormal\").text.strip()\n",
    "            dates.append(speech_date)\n",
    "    except:\n",
    "        pass\n"
   ]
  },
  {
   "cell_type": "code",
   "execution_count": 143,
   "metadata": {},
   "outputs": [],
   "source": [
    "dates[18]"
   ]
  },
  {
   "cell_type": "code",
   "execution_count": 90,
   "metadata": {},
   "outputs": [],
   "source": [
    "#response = requests.get(\"https://americanrhetoric.com/barackobamaspeeches.htm\")\n",
    "#page = BeautifulSoup(response.text, 'html.parser')"
   ]
  },
  {
   "cell_type": "markdown",
   "metadata": {},
   "source": [
    "speeches = page.find_all('tr')\n",
    "talks=[]\n",
    "for speech in speeches:\n",
    "    dates = speech.find_all('td', attrs={'width':'148'})\n",
    "    for date in dates:\n",
    "        talks['date'] = date.text.strip()\n",
    "        dates_ok.append(talks['date'])\n",
    "talks[0]"
   ]
  },
  {
   "cell_type": "code",
   "execution_count": 155,
   "metadata": {},
   "outputs": [],
   "source": [
    "clean_dates= []\n",
    "for date in dates:\n",
    "    a = re.sub('<[^<]+?>', '', str(date))\n",
    "    b = re.sub('\\r\\n\\t\\t', '', str(a))  \n",
    "    c = re.sub('\\r\\n', '', str(b))\n",
    "    d = re.sub('\\.,', '.', str(c))\n",
    "    e = re.sub('\\n', '', str(d))\n",
    "    f = re.sub('\\xa0', '', str(e))\n",
    "    h = re.sub('\\t', '', str(f))\n",
    "    i = str(h).replace('\\\\', '')\n",
    "    clean_dates.append(i)\n"
   ]
  },
  {
   "cell_type": "code",
   "execution_count": 156,
   "metadata": {},
   "outputs": [
    {
     "data": {
      "text/plain": [
       "['delivered 2 October 2002, Chicago, Illinois',\n",
       " 'delivered 27 July 2004, Fleet Center, Boston',\n",
       " 'delivered 6 January 2005, Washington, D.C.',\n",
       " 'delivered 4 June 2005, Galesburg, Illinois',\n",
       " 'delivered 25 October 2005, Washington, D.C.',\n",
       " 'delivered 15 December 2005',\n",
       " 'delivered 31 January 2006, Washington, D.C.',\n",
       " 'delivered 20 July 2006',\n",
       " 'delivered 16 January 2007',\n",
       " 'Delivered 10 February 2007, Springfield, Illinois',\n",
       " 'delivered 4 March 2007, Brown Chapel, Selma, Alabama',\n",
       " 'delivered 13 March 2007',\n",
       " 'delivered 21 March 2007, Washington, D.C.',\n",
       " 'delivered 23 May 2007, Washington, D.C.',\n",
       " 'delivered 1 August 2007, The Woodrow Wilson Intl. Center for Scholars, Washington, D.C.',\n",
       " 'delivered 10 November 2007, Veterans Memorial Auditorium, Des Moines, Iowa',\n",
       " 'delivered 3 January 2008, Des Moines, Iowa',\n",
       " 'delivered 8 January 2008, Nashua, New Hampshire',\n",
       " 'None',\n",
       " 'Delivered 20 January 2008, Ebenezer Baptist Church, Atlanta',\n",
       " 'delivered 26 January 2008',\n",
       " 'delivered 18 March 2008, Philadelphia, PA',\n",
       " 'delivered 3 June 2008, Saint Paul, Minnesota',\n",
       " 'delivered 15 July 2008, Ronald Reagan Building, Washington, D.C.',\n",
       " 'delivered 24 July 2008, Victory Column',\n",
       " 'delivered       28 August 2008, INVESCO Field at Mile High Stadium, Denver, Colorado',\n",
       " 'delivered 1 October 2008',\n",
       " 'delivered 4 November 2008, Grant Park, Chicago, Illinois',\n",
       " 'delivered 7 November 2008, Chicago, Illinois',\n",
       " 'Broadcast 8 November 2008',\n",
       " 'Broadcast 15 November 2008',\n",
       " 'First Broadcast 18 November 2008',\n",
       " 'Broadcast 21 November 2008',\n",
       " 'Delivered 24 November 2008, Chicago, Illinois',\n",
       " 'Delivered 25 November 2008, Chicago, Illinois',\n",
       " 'Delivered 25 November 2008, Chicago, Illinois',\n",
       " 'Delivered 26 November 2008, Chicago, Illinois',\n",
       " 'First Broadcast 27 November 2008, Chicago, Illinois',\n",
       " 'Delivered 1 December 2008, Chicago, Illinois',\n",
       " 'Delivered 3 December 2008, Chicago, Illinois',\n",
       " 'Broadcast 6 December 2008',\n",
       " 'Broadcast 13 December 2008',\n",
       " 'Broadcast 20 December 2008',\n",
       " 'First Broadcast 24 December 2008',\n",
       " 'First Broadcast 3 January 2009',\n",
       " 'Delivered 5 January 2009',\n",
       " 'delivered 8 January 2009, Fairfax, Virginia',\n",
       " 'Delivered 9 January 2009',\n",
       " 'First Broadcast 10 January 2009, Washington, D.C.',\n",
       " 'First Broadcast 17 January 2009, Washington, D.C.',\n",
       " 'delivered 18 January 2009, Washington, D.C.',\n",
       " '\"What is Required: The Price and the Promise of Citizenship\"',\n",
       " 'First Broadcast 24 January 2009, Washington, D.C.',\n",
       " 'delivered 26 January 2009, White House, Washington, D.C.',\n",
       " 'delivered 4 February 2009, Grand Foyer, The White House',\n",
       " 'delivered 9 February 2009',\n",
       " 'delivered 12 February 2009, Lincoln Memorial, Washington, D.C.',\n",
       " 'delivered 12 February 2009, Crowne Plaza Hotel, Springfield, IL',\n",
       " 'delivered 24 February 2009',\n",
       " 'delivered 27 February 2009, Camp Lejeune, North Carolina',\n",
       " 'delivered 10 March 2009',\n",
       " 'delivered 2 April 2009, Excel Center, London, England',\n",
       " 'delivered 3 April 2009, Rhenus Sports Arena ',\n",
       " 'delivered 5 April 2009, Czech Republic',\n",
       " 'delivered 6 April 2009, Ankara, Turkey',\n",
       " 'delivered 7 April 2009, Al Faw Palace, Baghdad, Iraq',\n",
       " 'delivered 14 April 2009, Georgetown University, Washington, D.C.',\n",
       " 'delivered 20 April 2009, Langley, Virginia',\n",
       " 'delivered 23 April 2009, Washington, D.C.',\n",
       " 'delivered 9 May 2009, Washington Hilton Hotel, Washington, D.C.',\n",
       " 'delivered 17 May 2009, White House, Washington, D.C.',\n",
       " 'delivered 18 May 2009',\n",
       " 'delivered 21 May 2009, National Archives, Washington, D.C.',\n",
       " 'delivered 29 May 2009, East Room, White House, Washington, D.C.',\n",
       " 'delivered 4 June 2009, Cairo, Egypt',\n",
       " 'delivered 4 June 2009, Thuringia, Germany',\n",
       " 'delivered 5 June 2009, Normandy, France',\n",
       " 'delivered 15 June 2009, Hyatt Regency, Chicago, IL',\n",
       " 'delivered 23 June 2009',\n",
       " 'delivered 23 June 2009',\n",
       " 'delivered 7 July 2009, Gostinny Dvor, Moscow, Russia',\n",
       " 'delivered 11 July 2009, ',\n",
       " 'delivered 13 July 2009',\n",
       " 'delivered 14 July 2009, Macomb Community College, Warren, Michigan',\n",
       " 'delivered 29 August 2009',\n",
       " 'delivered 8 September 2009, Arlington, Virginia ',\n",
       " 'delivered 9 September 2009, Lincoln Center, New York, NY',\n",
       " 'delivered 9 September 2009',\n",
       " 'delivered 11 September 2009, Arlington, Virginia',\n",
       " 'delivered 23 September 2009, New York, NY',\n",
       " 'delivered 10 November 2009, Fort Hood, TX',\n",
       " 'delivered 16 November 2009, Shanghai Technology and Science Museum, Shanghai, China',\n",
       " 'delivered 1 December 2009, Eisenhower Hall, West Point Military Academy, NY',\n",
       " 'delivered 6 December 2009',\n",
       " 'delivered 8 December 2009, Washington, D.C.',\n",
       " 'delivered 10 December 2009, Oslo City Hall, Oslo, Norway',\n",
       " 'delivered 18 December 2009, Copenhagen, Denmark',\n",
       " 'delivered 28 December 2009, Kailua, Hawaii',\n",
       " 'delivered 5 January 2010, White House, Washington, D.C.',\n",
       " 'delivered 7 January 2010',\n",
       " 'delivered 14 January 2010',\n",
       " 'None',\n",
       " 'delivered 22 January 2010, Elyria, Ohio',\n",
       " 'delivered 27 January 2010',\n",
       " 'delivered 27 January 2010, Washington, D.C.',\n",
       " 'delivered 29 January 2010, Baltimore, Maryland',\n",
       " 'delivered 1 February 2010',\n",
       " 'delivered 4 February 2010',\n",
       " 'delivered 9 February 2010',\n",
       " 'delivered 19 February 2010, Green Valley High School, Henderson, Nevada',\n",
       " 'delivered 3 March 2010, White House, Washington, D.C.',\n",
       " 'delivered 13 March 2010',\n",
       " 'delivered 19 March 2010',\n",
       " 'delivered 20 March 2010',\n",
       " 'delivered 21 March 2010',\n",
       " 'delivered 23 March 2010, Washington, D.C.',\n",
       " 'delivered 28 March 2010, Clamshell, Bagram Air Field',\n",
       " 'delivered 31 March 2010, Camp Springs, Maryland',\n",
       " 'delivered 08 April 2010',\n",
       " 'delivered 9 April 2010',\n",
       " 'delivered 15 April 2010, JFK Space Center, Merritt Island, Florida',\n",
       " 'delivered 22 April 2010, Cooper Union, New York, NY',\n",
       " 'delivered 25 April 2010, Beckley, West Virginia',\n",
       " 'delivered 29 April 2010, Washington National Cathedral, Washington, D.C.',\n",
       " 'delivered 01 May 2010',\n",
       " 'delivered 1 May 2010, Washington Hilton Hotel, Washington, D.C.',\n",
       " 'delivered 10 May 2010',\n",
       " 'delivered 22 May 2010, Michie Stadium, West Point, New York',\n",
       " 'delivered 27 May 2010, The White House, Washington, D.C.',\n",
       " 'delivered 28 May 2010, Grande Isle, Louisiana',\n",
       " 'delivered 2 June 2010, Pittsburgh, PA',\n",
       " 'delivered 7 June 2010',\n",
       " 'delivered 9 June 2010',\n",
       " 'delivered 15 June 2010',\n",
       " 'delivered 15 June 2010, Washington, D.C.',\n",
       " 'delivered 16 June 2010',\n",
       " 'delivered 21 June 2010',\n",
       " 'delivered 23 June 2010',\n",
       " 'delivered 1 July 2010, American University, Washington, D.C.',\n",
       " 'delivered 2 July 2010, West Virginia State Capitol, Charleston, West Virginia',\n",
       " 'delivered 21 July 2010, Ronald Reagan Building, Washington, D.C.',\n",
       " 'delivered 2 August 2010',\n",
       " 'delivered 13 August 2010, Washington, D.C.',\n",
       " 'None',\n",
       " 'delivered 11 September 2010',\n",
       " 'delivered 23 September 2010, UN Headquarters, New York, New York',\n",
       " 'delivered 3 November 2010',\n",
       " 'delivered 6 November 2010, Mumbai, India',\n",
       " 'delivered 8 November, 2010, New Delhi, India',\n",
       " 'None',\n",
       " 'delivered 16 November 2010, East Room, The White House',\n",
       " 'delivered 3 December 2010, Parwan Province, Afghanistan',\n",
       " 'delivered 10 December 2010',\n",
       " 'delivered 12 January 2011, McKale Memorial Center, University of Arizona, Tucson ',\n",
       " 'delivered 25 January 2011, Washington, D.C.',\n",
       " 'delivered 3 February 2011, Washington, D.C.',\n",
       " 'delivered 7 February 2011, Washington, D.C.',\n",
       " 'delivered 10 February 2011, Northern Michigan University, Marquette, MI',\n",
       " 'delivered 11 February 2011',\n",
       " 'delivered 23 February 2011',\n",
       " 'delivered 18 March 2011',\n",
       " 'delivered 19 March 2011, The Convention Center Brasil 21, Brasilia, Brazil',\n",
       " 'delivered 20 March 2011, Teatro Municipal, Rio de Janeiro',\n",
       " 'delivered 21 March 2011, Santiago, Chile',\n",
       " 'delivered 28 March 2011, National Defense University, Washington, D.C.',\n",
       " 'delivered 30 March 2011, Washington, D.C.',\n",
       " 'delivered 13 April 2011',\n",
       " 'Uploaded to YouTube 26 April 2011',\n",
       " 'delivered 27 April 2011, Washington, D.C.',\n",
       " 'delivered 29 April 2011, Alberta, Alabama',\n",
       " 'delivered 29 April 2011, James L. Knight International Center',\n",
       " 'None',\n",
       " 'delivered 1 May 2011, White House, Washington, D.C.',\n",
       " 'delivered 6 May 2011',\n",
       " 'delivered 16 May 2011, Memphis, TN',\n",
       " 'delivered 19 May 2011, State Department, Washington, D.C.',\n",
       " 'delivered 19 May 2011, State Department, Washington, D.C.',\n",
       " 'delivered 20 May 2011, Langley, Virginia',\n",
       " 'delivered 20 May 2011, Oval Office of the White House, Washington, D.C.',\n",
       " 'delivered 22 May 2011, Walter E. Washington Convention Center, Washington, D.C.',\n",
       " 'delivered 25 May 2011, Westminster Hall, London',\n",
       " 'delivered 29 May 2011, Missouri Southern University, Joplin Missouri',\n",
       " 'delivered 30 May 2011, Rose Garden, White House',\n",
       " 'delivered 22 June 2011',\n",
       " 'delivered 24 June 2011, Carnegie Mellon University, Pittsburgh, PA',\n",
       " 'delivered 29 June 2011, East Room of the White House, Washington, D.C.',\n",
       " 'delivered 25 July 2011, East Room of the White House, Washington, D.C.',\n",
       " 'delivered 31 July 2011, James S. Brady Briefing Room, The White House',\n",
       " 'delivered 2 August 2011, Rose Garden, The White House',\n",
       " 'delivered 30 August 2011, Minneapolis Convention Center, MN',\n",
       " 'delivered 8 September 2011, Washington, D.C.',\n",
       " 'delivered 19 September 2011, White House, Washington, D.C.',\n",
       " 'delivered 20 September 2011, New York, NY',\n",
       " 'delivered 21 September 2011, UN Headquarters, New York, New York',\n",
       " 'delivered 16 October 2011, The National Mall, Washington, D.C.',\n",
       " 'delivered 20 October 2011, White House, Washington, D.C.',\n",
       " 'delivered 21 October 2011, White House, Washington, D.C.',\n",
       " 'delivered 16 November 2011, Canberra, Australia',\n",
       " 'delivered 2 December 2011, Department of Interior, Washington, D.C.',\n",
       " 'delivered 6 December 2011, Osawatomie, Kansas',\n",
       " 'delivered 17 December 2011, The White House, Washington, D.C.',\n",
       " 'delivered 5 January 2012, The Pentagon, Washington, D.C.',\n",
       " 'delivered 24 January 2012, Washington, D.C.',\n",
       " 'delivered 1 February 2012, James Lee Community Center, Falls Church, Virginia',\n",
       " 'delivered 3 February 2012, Fire Station 5, Arlington, VA',\n",
       " 'delivered 29 February 2012',\n",
       " 'delivered 4 March, 2012',\n",
       " 'delivered 26 march 2012, Seoul, Korea',\n",
       " 'delivered 29 March 2012, Rose Garden, White House',\n",
       " 'delivered 3 April 2012, Marriott Wardman Park, Washington, D.C.',\n",
       " 'delivered 23 April 2012, Washington, D.C.',\n",
       " 'delivered 28 April 2012, Washington Hilton Hotel, Washington, D.C.',\n",
       " '[AUTHENTICITY CERTIFIED: Text version below transcribed directly from audio]',\n",
       " 'delivered 13 June 2012, White House, Washington, D.C.',\n",
       " 'delivered 28 June 2012, White House, Washington, D.C.',\n",
       " 'delivered 20 July 2012, Harborside Event Center, Fort Myers, Florida',\n",
       " 'delivered 23 July 2012, Reno, Nevada',\n",
       " 'delivered 6 September 2012, Charlotte, North Carolina',\n",
       " 'delivered 12 September 2012, White House, Washington, D.C.',\n",
       " 'delivered 14 September 2012, Joint Base Andrews AFB ',\n",
       " 'delivered 25 September 2012',\n",
       " 'delivered 25 September 2012, UN Headquarters, New York, New York',\n",
       " 'delivered 3 October 2012, Magness Arena, University of Denver, Colorado',\n",
       " 'delivered 17 October 2012, Hofstra University, Hempstead, New York',\n",
       " 'delivered 23 October 2012, Lynn University, Boca Raton, FL',\n",
       " 'delivered 29 October 2012, James S. Brady Press Briefing Room',\n",
       " 'delivered 29 October 2012, James S. Brady Press Briefing Room',\n",
       " 'delivered 30 October 2012, Washington, D.C.',\n",
       " 'None',\n",
       " 'delivered 9 November 2012',\n",
       " 'delivered 14 November 2012',\n",
       " 'delivered 19 November 2012, Yangon, Myanmar/Burma',\n",
       " 'delivered 14 December 2012',\n",
       " 'delivered 14 December 2012',\n",
       " 'delivered 16 December 2012, Newtown, Connecticut',\n",
       " 'delivered 19 December 2012, The White House, Washington, D.C.',\n",
       " 'delivered 21 December 2012, National Cathedral, Washington, D.C.',\n",
       " 'delivered 14 January 2013',\n",
       " 'delivered 16 January 2013',\n",
       " 'delivered 21 January 2013, Washington, D.C.',\n",
       " 'delivered 29 January 2013, Del Sol HS, Las Vegas, Nevada',\n",
       " 'delivered 12 February 2013, Washington, D.C.',\n",
       " 'delivered 15 February 2013, Hyde Park Career Academy, Chicago, Illinois',\n",
       " 'delivered 26 February 2013, Newport News Shipbuilding, Newport News, Virginia',\n",
       " 'delivered 27 February 2013',\n",
       " 'delivered 21 March 2013, Jerusalem, Israel',\n",
       " 'delivered 22 March 2013, Jerusalem, Israel',\n",
       " 'delivered 2 April 2013, White House, Washington, D.C.',\n",
       " 'delivered 3 April 2013, Denver Police Academy, Denver. Colorado',\n",
       " 'delivered 8 April 2013, Hartford, Connecticut',\n",
       " 'delivered 11 April 2013, East Room, White House, Washington, D.C.',\n",
       " 'delivered 15 April 2013',\n",
       " 'delivered 16 April 2013',\n",
       " 'delivered 17 April 2013, Rose Garden, White House, Washington, D.C.',\n",
       " 'delivered 18 April 2013, Boston, Massachusetts',\n",
       " 'delivered 19 April 2013',\n",
       " 'delivered 25 April 2013, Southern Methodist University, Dallas, Texas',\n",
       " 'delivered 25 April 2013, University of Baylor, Waco, Texas',\n",
       " 'delivered 27 April 2013, Washington Hilton Hotel, Washington, D.C.',\n",
       " 'delivered 30 April 2013, White House, Washington, D.C.',\n",
       " 'delivered 2 May 2013, Anthropological Museum, Mexico City',\n",
       " 'delivered 15 May 2013, East Room, White House, Washington, D.C.',\n",
       " 'delivered 19 May 2013, Atlanta, Georgia',\n",
       " 'delivered 23 May 2013, Fort McNair, Washington, D.C.',\n",
       " 'delivered 24 May 2013, Annapolis, Maryland',\n",
       " 'delivered 7 June 2013, San Jose, CA',\n",
       " 'delivered 11 June 2013',\n",
       " 'delivered 17 June 2013, Waterfront, Belfast, Northern Ireland',\n",
       " 'delivered 19 June 2013, ',\n",
       " 'delivered 30 June 2013, Cape Town, South Africa',\n",
       " 'delivered 19 July 2013',\n",
       " 'delivered 24 July 2013, Galesburg, Illinois',\n",
       " 'delivered 27 July 2013, Washington, D.C.',\n",
       " 'delivered 9 August 2013',\n",
       " 'delivered 28 August 2013, Lincoln Memorial, Washington, D.C.',\n",
       " 'delivered 31 August 2013, White House, Washington, D.C.',\n",
       " 'delivered 10 September 2013, Washington, D.C.',\n",
       " 'delivered 22 September 2013, The Marine Barracks, Washington, D.C.',\n",
       " 'delivered 24 September 2013, UN Headquarters, New York, New York',\n",
       " 'delivered 24 September 2013, Sheraton New York Hotel and Towers, New York, New York',\n",
       " 'delivered 2 October 2013, White House, Washington, D.C.',\n",
       " 'delivered 21 October 2013, Rose Garden, White House, Washington, D.C.',\n",
       " 'delivered 11 November 2013, Arlington National Cemetery, Arlington, Virginia',\n",
       " 'delivered 14 November 2013',\n",
       " 'delivered 23 November 2013',\n",
       " 'delivered 5 December 2013',\n",
       " 'delivered 10 December 2013, First National Bank Stadium, Johannesburg, South Africa',\n",
       " 'delivered 20 December 2013',\n",
       " 'delivered 17 January 2014, Department of Justice, Washington, D.C.',\n",
       " 'delivered 28 January 2014',\n",
       " 'delivered 6 February 2014, Washington, D.C.',\n",
       " 'delivered 26 March 2014, Palais des Beaux Arts, Brussels, Belgium',\n",
       " 'delivered 10 April 2014, Lyndon Baines Johnson Library, Austin, TX',\n",
       " 'delivered 17 April 2014, White House, Washington, D.C.',\n",
       " 'delivered 24 April 2014, ',\n",
       " 'delivered 27 April 2014, University of Malaya, Kuala Lumpur, Malaysia',\n",
       " 'delivered 28 April 2014, Manila',\n",
       " 'delivered 29 April 2014, Manila, Philippines',\n",
       " 'delivered 3 May 2014, Washington, D.C.',\n",
       " 'delivered 21 May 2014, White House, Washington, D.C.',\n",
       " 'delivered 28 May 2014, West Point, New York',\n",
       " 'delivered 30 May 2014, White House, Washington, D.C.',\n",
       " 'delivered 4 June 2014, Castle Square, Warsaw, Poland',\n",
       " 'delivered 6 June 2014, Omaha Beach, Normandy, France',\n",
       " 'delivered 30 June 2014',\n",
       " 'delivered July 18 2014',\n",
       " 'delivered 21 July 2014',\n",
       " 'delivered 1 August 2014',\n",
       " 'delivered 7 August 2014, State Dining Room, White House, Washington, D.C.',\n",
       " 'delivered 9 August 2014, South Lawn, White House, Washington, D.C.',\n",
       " 'delivered 14 August 2014, Edgartown, Massachusetts',\n",
       " 'delivered 28 August 2014',\n",
       " 'delivered 3 September 2014, Bank of Estonia, Tallinn, Estonia',\n",
       " 'delivered 3 September 2014, ',\n",
       " 'delivered 10 September 2014, The White House',\n",
       " 'delivered 16 September 2014, Atlanta Georgia',\n",
       " 'delivered 24 September 2014, UN Headquarters, New York, New York',\n",
       " 'delivered 24 September 2014, New York, NY',\n",
       " 'delivered 25 September 2014, New York, NY',\n",
       " 'delivered 17 October 2014, Consumer Financial Protection Bureau, Washington, D.C.',\n",
       " 'delivered 28 October 2014,, White House, Washington, D.C.',\n",
       " 'delivered 5 November 2014, White House, Washington, D.C.',\n",
       " 'delivered 14 November 2014, Rangoon, Burma',\n",
       " 'delivered 14 November 2014, Yangon University, Rangoon/Yangon, Burma/Myanmar',\n",
       " 'delivered 20 November 2014',\n",
       " 'delivered 2 December 2014, Bethesda, Maryland',\n",
       " 'delivered 17 December 2014',\n",
       " 'delivered 19 December 2014',\n",
       " 'delivered 9 January 2015, Pellissippi State Community College, Knoxville, TN',\n",
       " 'delivered 12 January 2015, Constitution Center, Washington, D.C.',\n",
       " 'delivered 13 January 2015, Arlington, Virginia',\n",
       " 'delivered 20 January 2015',\n",
       " 'delivered 27 January 2015, Siri Fort Auditorium, New Delhi, India',\n",
       " 'delivered 5 February 2015',\n",
       " 'delivered 11 February 2015',\n",
       " 'delivered 13 February 2015, Stanford University, Stanford, CA',\n",
       " 'delivered 18 February 2015, White House, Washington, D.C.',\n",
       " 'delivered 3 March 2015',\n",
       " 'delivered 7 March 2015, Edmund Pettus Bridge, Selma, Alabama',\n",
       " 'delivered 10 March 2015, Georgia Institute of Technology, Atlanta, Georgia',\n",
       " 'delivered 30 March 2015, Boston, Massachusetts',\n",
       " 'delivered 2 April 2015, Rose Garden, White House, Washington, D.C.',\n",
       " 'delivered 9 April 2015, Kingston, Jamaica',\n",
       " 'delivered 10 April 2015, Hotel El Panama, Panama City, Panama',\n",
       " 'delivered 11 April 2015, Panama City, Panama',\n",
       " 'delivered 11 April 2015, Panama City, Panama',\n",
       " 'delivered 23 April 2015, White House, Washington, D.C.',\n",
       " 'delivered 25 April 2015, Washington, D.C.',\n",
       " 'delivered 8 May 2015, Beaverton, Oregon',\n",
       " 'delivered 22 May 2015, Adas Israel Congregation, Washington, D.C.',\n",
       " 'delivered 1 June 2015, Washington, D.C.',\n",
       " 'delivered 6 June 2015, ',\n",
       " 'delivered 8 June 2015, Elmau Briefing Center Krün, Germany',\n",
       " 'delivered 17 June 2015, Washington, D.C.',\n",
       " 'delivered 18 June 2015, White House, Washington, D.C.',\n",
       " 'delivered 19 June 2015, Hilton San Francisco Union Square, CA',\n",
       " 'delivered 24 June 2015, White House, Washington, D.C.',\n",
       " 'delivered 25 June 2015, Rose Garden, White House, Washington, D.C.',\n",
       " 'delivered 26 June 2015, College of Charleston, Charleston, South Carolina',\n",
       " 'delivered 6 July 2015, The Pentagon, Washington, D.C.',\n",
       " 'delivered 13 July 2015, White House, Washington, D.C.',\n",
       " 'delivered 14 July 2015, Philadelphia Convention Center, Philadelphia, Pennsylvania',\n",
       " 'delivered 14 July 2015',\n",
       " 'delivered 15 July 2015, White House, Washington, D.C.',\n",
       " 'delivered 26 July 2015, Kenyatta University, Nairobi, Kenya',\n",
       " 'delivered 26 July 2015, Safaricom Indoor Arena, Nairobi, Kenya',\n",
       " 'delivered 28 July 2015, African Union Headquarters, Addis Ababa, Ethiopia',\n",
       " 'delivered 3 August 2015, White House, Washington, D.C.',\n",
       " 'delivered 5 August 2015, Washington, D.C.',\n",
       " 'delivered 27 August 2015, Andrew Sanchez Community Center, New Orleans, Louisiana',\n",
       " 'delivered 11 September 2015, Fort Meade, Maryland',\n",
       " 'delivered 19 September 2015, Washington, D.C.',\n",
       " 'delivered 23 September 2015, South Lawn, White House, Washington, D.C.',\n",
       " 'delivered 25 September 2015, Joint Base Myer-Henderson Hall, Virginia',\n",
       " 'delivered 28 September 2015, UN Headquarters, New York, New York',\n",
       " 'delivered 1 October 2015, Washington, D.C.',\n",
       " 'delivered 02 October 2015, White House, Washington, D.C.',\n",
       " 'delivered 15 October 2015, White House, Washington, D.C.',\n",
       " 'delivered 21 October 2015, East End Family Community Center, Charleston, WV',\n",
       " 'delivered 13 November 2015, Washington, D.C.',\n",
       " 'delivered 13 November 2015',\n",
       " 'delivered 16 November 2015, ',\n",
       " 'delivered 21 November 2015, Shangri-La Hotel, Kuala Lumpur, Malaysia',\n",
       " 'delivered 22 November 2015, Ritz Carlton, Kuala Lumpur, Malaysia',\n",
       " 'delivered 24 November 2015. White House, Washington, D.C.',\n",
       " 'delivered 24 November 2015. White House, Washington, D.C.',\n",
       " 'delivered 30 November 2015, Le Bourget, Paris, France',\n",
       " 'delivered 1 December 2015, ',\n",
       " 'delivered 6 December 2015, Oval Office, The White House',\n",
       " 'delivered 9 December 2015, U.S. Capitol, Washington, D.C.',\n",
       " 'delivered 10 December 2015, Eisenhower Building, Washington, D.C.',\n",
       " 'delivered 12 December 2015, White House, Washington, D.C.',\n",
       " 'delivered 14 December 2015 ',\n",
       " 'delivered 15 December 2015, Washington, D.C.',\n",
       " 'delivered 17 December 2015, McLean, Virginia',\n",
       " 'delivered 18 December 2015, White House, Washington, D.C.',\n",
       " 'delivered 1 January 2015',\n",
       " 'delivered 5 January 2015, White House, Washington, D.C.',\n",
       " 'delivered 7 January 2016, Fairfax, Virginia',\n",
       " 'delivered 12 January 2016',\n",
       " 'delivered 17 January 2016, White House, Washington, D.C.',\n",
       " 'delivered 27 January 2016, Israel Embassy, Washington, D.C.',\n",
       " 'delivered 3 February 2016, Baltimore, Maryland',\n",
       " 'delivered 4 February 2016, Washington Hilton, Washington, D.C.',\n",
       " 'delivered 4 February 2016, White House, Washington, D.C.',\n",
       " 'delivered 10 February 2016, Illinois State Capitol, Springfield, Illinois',\n",
       " 'delivered 13 February 2016, Rancho Mirage, California',\n",
       " 'delivered 16 February 2016, Rancho Mirage, California',\n",
       " 'delivered 20 February 2016',\n",
       " 'delivered 23 February 2016, White House, Washington, D.C.',\n",
       " 'delivered 25 February 2016',\n",
       " 'delivered 26 February 2016, Jacksonville, Florida',\n",
       " 'delivered 11 March 2016, location, Long Center for Performing Arts, Austin, Texas',\n",
       " 'delivered 16 March 2016, Rose Garland, White House, Washington, D.C.',\n",
       " 'delivered 21 March 2016, Palace of the Revolution, Havana, Cuba',\n",
       " 'delivered 21 March 2016, Havana, Cuba',\n",
       " 'delivered 22 March 2016, Gran Teatro de la Habana, Havana, Cuba',\n",
       " 'delivered 23 March 2016, ',\n",
       " 'Publish 26 March 2015',\n",
       " 'delivered 1 April 2016, Walter E. Washington Convention Center, Washington, D.C.',\n",
       " 'delivered 7 April 2016, University of Chicago Law School, Chicago, Illinois',\n",
       " 'delivered 21 April 2016, ',\n",
       " 'delivered 23 April 2016, Lindley Hall, Royal Horticulture Halls, London, England',\n",
       " 'delivered 25 April 2016, ',\n",
       " 'delivered 30 April 2016, Capital Hilton, Washington, D.C.',\n",
       " 'delivered 4 May 2016, Northwestern High School, Flint, Michigan',\n",
       " 'delivered 7 May 2016, Washington, D.C.',\n",
       " 'Published 14 May 2016',\n",
       " 'delivered 24 May 2016, National Convention Center, Hanoi, Vietnam',\n",
       " 'delivered 24 May 2016, Dreamplex, Ho Chi Minh City, Vietnam',\n",
       " 'delivered 25 May 2016, GEM Convention Center, Ho Chi Minh City, Vietnam',\n",
       " 'delivered 25 May 2016, Shima City, Japan',\n",
       " 'delivered 26 May 2016, Shima City, Japan',\n",
       " 'delivered 27 May 2016, Hiroshima, Japan',\n",
       " 'delivered 2 June 2016, United States Air Force Academy, Colorado Springs, Colorado',\n",
       " 'Published 9 June 2016',\n",
       " 'delivered 12 June 2016, White House',\n",
       " 'delivered 14 June 2016, Treasury Department, Washington, D.C.',\n",
       " 'delivered 14 June 2016, Walter E. Washington Convention Center, Washington, D.C.',\n",
       " 'delivered 16 July 2016, Phillips Center for the Performing Arts, Orlando, Florida',\n",
       " 'delivered 23 June 2016, White House, Washington, D.C.',\n",
       " 'delivered 9 July 2016, Warsaw, Poland',\n",
       " 'delivered 12 July 2016,Dallas, Texas',\n",
       " 'delivered 27 July 2016, Philadelphia, Pennsylvania',\n",
       " 'delivered 4 August 2016, Pentagon, Arlington, Virginia',\n",
       " 'delivered 23 August 2016, Baton Rouge, Louisiana',\n",
       " 'delivered 5 September 2016, Hangzhou, China',\n",
       " 'delivered 6 September 2016, Lao National Cultural Hall, Vientiane, Laos',\n",
       " 'delivered 8 September 2016, Vientiane, Laos',\n",
       " 'delivered 11 September 2016, Arlington, Virginia',\n",
       " 'delivered 19 September, 2016, Lotte New York Palace Hotel, New York City, New York',\n",
       " 'delivered 20 September 2016, New York, NY',\n",
       " 'delivered 24 September 2016, National Mall, Washington, D.C.',\n",
       " 'delivered 30 September 2016, Mount Herzl, Jerusalem, Israel',\n",
       " 'delivered 9 November 2016, Washington, D.C.',\n",
       " 'delivered 10 November 2016, White House, Washington, D.C.',\n",
       " 'delivered 14 November 2016, White House, Washington, D.C.',\n",
       " 'delivered 16 November 2016, ',\n",
       " 'delivered 17 November 2016, Berlin, Germany',\n",
       " 'delivered 20 November 2016, Lima, Peru',\n",
       " 'delivered 20 November 2016, Lima Convention Center, Peru',\n",
       " 'delivered 4 December 2016, White House, Washington, D.C.',\n",
       " 'delivered 6 December 2016, MacDill Air Force Base, Tampa, Florida',\n",
       " 'delivered 16 December 2016, White House, Washington, D.C.',\n",
       " 'delivered 27 December 2016, Oahu, Hawaii',\n",
       " 'delivered 4 January 2017, Joint Base Myer-Henderson, Fort Myer, Virginia',\n",
       " 'delivered 6 January 2017, Washington, D.C.',\n",
       " 'delivered 10 January 2017, McCormick Place, Chicago, Illinois',\n",
       " 'delivered 12 January 2017, White House, Washington, D.C.',\n",
       " 'delivered 14 January 2017, White House, Washington, D.C.',\n",
       " 'delivered 17 January 2017, Washington, D.C.',\n",
       " 'delivered 18 January 2017, White House, Washington, D.C.',\n",
       " 'delivered 20 January 2017, Prince George County, Maryland']"
      ]
     },
     "execution_count": 156,
     "metadata": {},
     "output_type": "execute_result"
    }
   ],
   "source": [
    "clean_dates"
   ]
  },
  {
   "cell_type": "code",
   "execution_count": 183,
   "metadata": {},
   "outputs": [
    {
     "name": "stdout",
     "output_type": "stream",
     "text": [
      "[['Chicago, Illinois'], ['Fleet Center, Boston'], ['Washington, D.C.'], ['Galesburg, Illinois'], ['Washington, D.C.'], [], ['Washington, D.C.'], [], [], ['Springfield, Illinois'], ['Brown Chapel, Selma, Alabama'], [], ['Washington, D.C.'], ['Washington, D.C.'], ['The Woodrow Wilson Intl. Center for Scholars, Washington, D.C.'], ['Veterans Memorial Auditorium, Des Moines, Iowa'], ['Des Moines, Iowa'], ['Nashua, New Hampshire'], [], ['Ebenezer Baptist Church, Atlanta'], [], ['Philadelphia, PA'], ['Saint Paul, Minnesota'], ['Ronald Reagan Building, Washington, D.C.'], ['Victory Column'], ['INVESCO Field at Mile High Stadium, Denver, Colorado'], [], ['Grant Park, Chicago, Illinois'], ['Chicago, Illinois'], [], [], [], [], ['Chicago, Illinois'], ['Chicago, Illinois'], ['Chicago, Illinois'], ['Chicago, Illinois'], ['Chicago, Illinois'], ['Chicago, Illinois'], ['Chicago, Illinois'], [], [], [], [], [], [], ['Fairfax, Virginia'], [], ['Washington, D.C.'], ['Washington, D.C.'], ['Washington, D.C.'], [], ['Washington, D.C.'], ['White House, Washington, D.C.'], ['Grand Foyer, The White House'], [], ['Lincoln Memorial, Washington, D.C.'], ['Crowne Plaza Hotel, Springfield, IL'], [], ['Camp Lejeune, North Carolina'], [], ['Excel Center, London, England'], ['Rhenus Sports Arena '], ['Czech Republic'], ['Ankara, Turkey'], ['Al Faw Palace, Baghdad, Iraq'], ['Georgetown University, Washington, D.C.'], ['Langley, Virginia'], ['Washington, D.C.'], ['Washington Hilton Hotel, Washington, D.C.'], ['White House, Washington, D.C.'], [], ['National Archives, Washington, D.C.'], ['East Room, White House, Washington, D.C.'], ['Cairo, Egypt'], ['Thuringia, Germany'], ['Normandy, France'], ['Hyatt Regency, Chicago, IL'], [], [], ['Gostinny Dvor, Moscow, Russia'], [], [], ['Macomb Community College, Warren, Michigan'], [], ['Arlington, Virginia '], ['Lincoln Center, New York, NY'], [], ['Arlington, Virginia'], ['New York, NY'], ['Fort Hood, TX'], ['Shanghai Technology and Science Museum, Shanghai, China'], ['Eisenhower Hall, West Point Military Academy, NY'], [], ['Washington, D.C.'], ['Oslo City Hall, Oslo, Norway'], ['Copenhagen, Denmark'], ['Kailua, Hawaii'], ['White House, Washington, D.C.'], [], [], [], ['Elyria, Ohio'], [], ['Washington, D.C.'], ['Baltimore, Maryland'], [], [], [], ['Green Valley High School, Henderson, Nevada'], ['White House, Washington, D.C.'], [], [], [], [], ['Washington, D.C.'], ['Clamshell, Bagram Air Field'], ['Camp Springs, Maryland'], [], [], ['JFK Space Center, Merritt Island, Florida'], ['Cooper Union, New York, NY'], ['Beckley, West Virginia'], ['Washington National Cathedral, Washington, D.C.'], [], ['Washington Hilton Hotel, Washington, D.C.'], [], ['Michie Stadium, West Point, New York'], ['The White House, Washington, D.C.'], ['Grande Isle, Louisiana'], ['Pittsburgh, PA'], [], [], [], ['Washington, D.C.'], [], [], [], ['American University, Washington, D.C.'], ['West Virginia State Capitol, Charleston, West Virginia'], ['Ronald Reagan Building, Washington, D.C.'], [], ['Washington, D.C.'], [], [], ['UN Headquarters, New York, New York'], [], ['Mumbai, India'], ['2010, New Delhi, India'], [], ['East Room, The White House'], ['Parwan Province, Afghanistan'], [], ['McKale Memorial Center, University of Arizona, Tucson '], ['Washington, D.C.'], ['Washington, D.C.'], ['Washington, D.C.'], ['Northern Michigan University, Marquette, MI'], [], [], [], ['The Convention Center Brasil 21, Brasilia, Brazil'], ['Teatro Municipal, Rio de Janeiro'], ['Santiago, Chile'], ['National Defense University, Washington, D.C.'], ['Washington, D.C.'], [], [], ['Washington, D.C.'], ['Alberta, Alabama'], ['James L. Knight International Center'], [], ['White House, Washington, D.C.'], [], ['Memphis, TN'], ['State Department, Washington, D.C.'], ['State Department, Washington, D.C.'], ['Langley, Virginia'], ['Oval Office of the White House, Washington, D.C.'], ['Walter E. Washington Convention Center, Washington, D.C.'], ['Westminster Hall, London'], ['Missouri Southern University, Joplin Missouri'], ['Rose Garden, White House'], [], ['Carnegie Mellon University, Pittsburgh, PA'], ['East Room of the White House, Washington, D.C.'], ['East Room of the White House, Washington, D.C.'], ['James S. Brady Briefing Room, The White House'], ['Rose Garden, The White House'], ['Minneapolis Convention Center, MN'], ['Washington, D.C.'], ['White House, Washington, D.C.'], ['New York, NY'], ['UN Headquarters, New York, New York'], ['The National Mall, Washington, D.C.'], ['White House, Washington, D.C.'], ['White House, Washington, D.C.'], ['Canberra, Australia'], ['Department of Interior, Washington, D.C.'], ['Osawatomie, Kansas'], ['The White House, Washington, D.C.'], ['The Pentagon, Washington, D.C.'], ['Washington, D.C.'], ['James Lee Community Center, Falls Church, Virginia'], ['Fire Station 5, Arlington, VA'], [], ['2012'], ['Seoul, Korea'], ['Rose Garden, White House'], ['Marriott Wardman Park, Washington, D.C.'], ['Washington, D.C.'], ['Washington Hilton Hotel, Washington, D.C.'], [], ['White House, Washington, D.C.'], ['White House, Washington, D.C.'], ['Harborside Event Center, Fort Myers, Florida'], ['Reno, Nevada'], ['Charlotte, North Carolina'], ['White House, Washington, D.C.'], ['Joint Base Andrews AFB '], [], ['UN Headquarters, New York, New York'], ['Magness Arena, University of Denver, Colorado'], ['Hofstra University, Hempstead, New York'], ['Lynn University, Boca Raton, FL'], ['James S. Brady Press Briefing Room'], ['James S. Brady Press Briefing Room'], ['Washington, D.C.'], [], [], [], ['Yangon, Myanmar/Burma'], [], [], ['Newtown, Connecticut'], ['The White House, Washington, D.C.'], ['National Cathedral, Washington, D.C.'], [], [], ['Washington, D.C.'], ['Del Sol HS, Las Vegas, Nevada'], ['Washington, D.C.'], ['Hyde Park Career Academy, Chicago, Illinois'], ['Newport News Shipbuilding, Newport News, Virginia'], [], ['Jerusalem, Israel'], ['Jerusalem, Israel'], ['White House, Washington, D.C.'], ['Denver Police Academy, Denver. Colorado'], ['Hartford, Connecticut'], ['East Room, White House, Washington, D.C.'], [], [], ['Rose Garden, White House, Washington, D.C.'], ['Boston, Massachusetts'], [], ['Southern Methodist University, Dallas, Texas'], ['University of Baylor, Waco, Texas'], ['Washington Hilton Hotel, Washington, D.C.'], ['White House, Washington, D.C.'], ['Anthropological Museum, Mexico City'], ['East Room, White House, Washington, D.C.'], ['Atlanta, Georgia'], ['Fort McNair, Washington, D.C.'], ['Annapolis, Maryland'], ['San Jose, CA'], [], ['Waterfront, Belfast, Northern Ireland'], [], ['Cape Town, South Africa'], [], ['Galesburg, Illinois'], ['Washington, D.C.'], [], ['Lincoln Memorial, Washington, D.C.'], ['White House, Washington, D.C.'], ['Washington, D.C.'], ['The Marine Barracks, Washington, D.C.'], ['UN Headquarters, New York, New York'], ['Sheraton New York Hotel and Towers, New York, New York'], ['White House, Washington, D.C.'], ['Rose Garden, White House, Washington, D.C.'], ['Arlington National Cemetery, Arlington, Virginia'], [], [], [], ['First National Bank Stadium, Johannesburg, South Africa'], [], ['Department of Justice, Washington, D.C.'], [], ['Washington, D.C.'], ['Palais des Beaux Arts, Brussels, Belgium'], ['Lyndon Baines Johnson Library, Austin, TX'], ['White House, Washington, D.C.'], [], ['University of Malaya, Kuala Lumpur, Malaysia'], ['Manila'], ['Manila, Philippines'], ['Washington, D.C.'], ['White House, Washington, D.C.'], ['West Point, New York'], ['White House, Washington, D.C.'], ['Castle Square, Warsaw, Poland'], ['Omaha Beach, Normandy, France'], [], [], [], [], ['State Dining Room, White House, Washington, D.C.'], ['South Lawn, White House, Washington, D.C.'], ['Edgartown, Massachusetts'], [], ['Bank of Estonia, Tallinn, Estonia'], [], ['The White House'], ['Atlanta Georgia'], ['UN Headquarters, New York, New York'], ['New York, NY'], ['New York, NY'], ['Consumer Financial Protection Bureau, Washington, D.C.'], ['White House, Washington, D.C.'], ['White House, Washington, D.C.'], ['Rangoon, Burma'], ['Yangon University, Rangoon/Yangon, Burma/Myanmar'], [], ['Bethesda, Maryland'], [], [], ['Pellissippi State Community College, Knoxville, TN'], ['Constitution Center, Washington, D.C.'], ['Arlington, Virginia'], [], ['Siri Fort Auditorium, New Delhi, India'], [], [], ['Stanford University, Stanford, CA'], ['White House, Washington, D.C.'], [], ['Edmund Pettus Bridge, Selma, Alabama'], ['Georgia Institute of Technology, Atlanta, Georgia'], ['Boston, Massachusetts'], ['Rose Garden, White House, Washington, D.C.'], ['Kingston, Jamaica'], ['Hotel El Panama, Panama City, Panama'], ['Panama City, Panama'], ['Panama City, Panama'], ['White House, Washington, D.C.'], ['Washington, D.C.'], ['Beaverton, Oregon'], ['Adas Israel Congregation, Washington, D.C.'], ['Washington, D.C.'], [], ['Elmau Briefing Center Krün, Germany'], ['Washington, D.C.'], ['White House, Washington, D.C.'], ['Hilton San Francisco Union Square, CA'], ['White House, Washington, D.C.'], ['Rose Garden, White House, Washington, D.C.'], ['College of Charleston, Charleston, South Carolina'], ['The Pentagon, Washington, D.C.'], ['White House, Washington, D.C.'], ['Philadelphia Convention Center, Philadelphia, Pennsylvania'], [], ['White House, Washington, D.C.'], ['Kenyatta University, Nairobi, Kenya'], ['Safaricom Indoor Arena, Nairobi, Kenya'], ['African Union Headquarters, Addis Ababa, Ethiopia'], ['White House, Washington, D.C.'], ['Washington, D.C.'], ['Andrew Sanchez Community Center, New Orleans, Louisiana'], ['Fort Meade, Maryland'], ['Washington, D.C.'], ['South Lawn, White House, Washington, D.C.'], ['Joint Base Myer-Henderson Hall, Virginia'], ['UN Headquarters, New York, New York'], ['Washington, D.C.'], ['White House, Washington, D.C.'], ['White House, Washington, D.C.'], ['East End Family Community Center, Charleston, WV'], ['Washington, D.C.'], [], [], ['Shangri-La Hotel, Kuala Lumpur, Malaysia'], ['Ritz Carlton, Kuala Lumpur, Malaysia'], ['Washington, D.C.'], ['Washington, D.C.'], ['Le Bourget, Paris, France'], [], ['Oval Office, The White House'], ['U.S. Capitol, Washington, D.C.'], ['Eisenhower Building, Washington, D.C.'], ['White House, Washington, D.C.'], [], ['Washington, D.C.'], ['McLean, Virginia'], ['White House, Washington, D.C.'], [], ['White House, Washington, D.C.'], ['Fairfax, Virginia'], [], ['White House, Washington, D.C.'], ['Israel Embassy, Washington, D.C.'], ['Baltimore, Maryland'], ['Washington Hilton, Washington, D.C.'], ['White House, Washington, D.C.'], ['Illinois State Capitol, Springfield, Illinois'], ['Rancho Mirage, California'], ['Rancho Mirage, California'], [], ['White House, Washington, D.C.'], [], ['Jacksonville, Florida'], ['location, Long Center for Performing Arts, Austin, Texas'], ['Rose Garland, White House, Washington, D.C.'], ['Palace of the Revolution, Havana, Cuba'], ['Havana, Cuba'], ['Gran Teatro de la Habana, Havana, Cuba'], [], [], ['Walter E. Washington Convention Center, Washington, D.C.'], ['University of Chicago Law School, Chicago, Illinois'], [], ['Lindley Hall, Royal Horticulture Halls, London, England'], [], ['Capital Hilton, Washington, D.C.'], ['Northwestern High School, Flint, Michigan'], ['Washington, D.C.'], [], ['National Convention Center, Hanoi, Vietnam'], ['Dreamplex, Ho Chi Minh City, Vietnam'], ['GEM Convention Center, Ho Chi Minh City, Vietnam'], ['Shima City, Japan'], ['Shima City, Japan'], ['Hiroshima, Japan'], ['United States Air Force Academy, Colorado Springs, Colorado'], [], ['White House'], ['Treasury Department, Washington, D.C.'], ['Walter E. Washington Convention Center, Washington, D.C.'], ['Phillips Center for the Performing Arts, Orlando, Florida'], ['White House, Washington, D.C.'], ['Warsaw, Poland'], ['Texas'], ['Philadelphia, Pennsylvania'], ['Pentagon, Arlington, Virginia'], ['Baton Rouge, Louisiana'], ['Hangzhou, China'], ['Lao National Cultural Hall, Vientiane, Laos'], ['Vientiane, Laos'], ['Arlington, Virginia'], ['2016, Lotte New York Palace Hotel, New York City, New York'], ['New York, NY'], ['National Mall, Washington, D.C.'], ['Mount Herzl, Jerusalem, Israel'], ['Washington, D.C.'], ['White House, Washington, D.C.'], ['White House, Washington, D.C.'], [], ['Berlin, Germany'], ['Lima, Peru'], ['Lima Convention Center, Peru'], ['White House, Washington, D.C.'], ['MacDill Air Force Base, Tampa, Florida'], ['White House, Washington, D.C.'], ['Oahu, Hawaii'], ['Joint Base Myer-Henderson, Fort Myer, Virginia'], ['Washington, D.C.'], ['McCormick Place, Chicago, Illinois'], ['White House, Washington, D.C.'], ['White House, Washington, D.C.'], ['Washington, D.C.'], ['White House, Washington, D.C.'], ['Prince George County, Maryland']]\n"
     ]
    }
   ],
   "source": [
    "import re\n",
    "real_dates = []\n",
    "locations = []\n",
    "for date in clean_dates:\n",
    "    good_date = re.findall(r\"\\d.?\\s\\w+\\s\\d\\d\\d\\d\\b\", date, re.IGNORECASE)\n",
    "    real_dates.append(good_date)\n",
    "    location = re.findall(r\",\\s([\\w].*)\", date, re.IGNORECASE)\n",
    "    locations.append(location)\n"
   ]
  },
  {
   "cell_type": "code",
   "execution_count": 184,
   "metadata": {},
   "outputs": [
    {
     "data": {
      "text/plain": [
       "'delivered 20 July 2006'"
      ]
     },
     "execution_count": 184,
     "metadata": {},
     "output_type": "execute_result"
    }
   ],
   "source": [
    "clean_dates[7]"
   ]
  },
  {
   "cell_type": "code",
   "execution_count": 186,
   "metadata": {},
   "outputs": [
    {
     "data": {
      "text/plain": [
       "473"
      ]
     },
     "execution_count": 186,
     "metadata": {},
     "output_type": "execute_result"
    }
   ],
   "source": [
    "len(locations)"
   ]
  },
  {
   "cell_type": "markdown",
   "metadata": {},
   "source": [
    "### Now I have all the speeches, all the dates and all the locations!"
   ]
  },
  {
   "cell_type": "markdown",
   "metadata": {},
   "source": [
    "# G.W. Bush"
   ]
  },
  {
   "cell_type": "code",
   "execution_count": 26,
   "metadata": {},
   "outputs": [],
   "source": [
    "###Import your scraping libraries\n",
    "\n",
    "import requests\n",
    "import time\n",
    "import random\n",
    "import lxml\n",
    "from bs4 import BeautifulSoup\n",
    "import re\n",
    "import pandas as pd\n",
    "import numpy as np"
   ]
  },
  {
   "cell_type": "code",
   "execution_count": 27,
   "metadata": {},
   "outputs": [],
   "source": [
    "response = requests.get(\"https://www.americanrhetoric.com/gwbushspeeches.htm\")\n",
    "page = BeautifulSoup(response.text, 'html.parser')"
   ]
  },
  {
   "cell_type": "code",
   "execution_count": 28,
   "metadata": {},
   "outputs": [
    {
     "name": "stdout",
     "output_type": "stream",
     "text": [
      "['speeches/gwbush2000victoryspeech.htm', 'speeches/gwbfirstinaugural.htm', 'speeches/gwbushwhitehousestaffswearingin.htm', 'speeches/gwbushfaithbasedinitiatives.htm', 'speeches/gwbushfirstprayerbreakfast.htm', 'speeches/stateoftheunion2001.htm', 'speeches/gwbushstemcell.htm', 'speeches/gwbush911florida.htm', 'speeches/gwbush911barksdale.htm', 'speeches/gwbush911addresstothenation.htm', 'speeches/gwbush911groundzerobullhorn.htm', 'speeches/gwbush911prayer&memorialaddress.htm', 'speeches/gwbush911radioaddress.htm', 'speeches/gwbush911islamispeace.htm', 'speeches/gwbush911jointsessionspeech.htm', 'speeches/gwbush911intialafghanistanops.htm', 'speeches/gwbush911pentagonmemorial2001.htm', 'speeches/gwbushoct2001newsconfference.htm', 'speeches/gwbushusapatriotact2001.htm', 'speeches/gwbush911unitednations.htm', 'speeches/gwbushcitadelcadets.htm', 'speeches/gwbush911worldremembers.htm', 'speeches/gwbushnochildleftbehindsigning.htm', 'speeches/stateoftheunion2002.htm', 'speeches/gwbushcubaindependence100th.htm', 'speeches/gwbushcompassionateconservatism.htm', 'speeches/gwbushwestpointcommencement.htm', 'speeches/gwbushtwostatesolution.htm', 'speeches/gwbushunitednations2002.htm', 'speeches/gwbushwariniraqcincinnati.htm', 'speeches/gwbushshuttlecolumbiamemorial.htm', 'speeches/gwbushfutureofiraq2003.htm', 'speeches/wariniraq/gwbushiraq31703.htm', 'speeches/wariniraq/gwbushiraq31903.htm', 'speeches/wariniraq/gwbushiraq41003.htm', 'speeches/wariniraq/gwbushiraq5103.htm', 'speeches/gwbushunitednations2003.htm', 'speeches/gwbushnationaldendowmentdemocracy2003.htm', 'speeches/wariniraq/gwbush3pillarsofsecurity.htm', 'speeches/gwbushmedicarelegislationsigning.htm', 'speeches/wariniraq/gwbushiraq121403.htm', 'speeches/stateoftheunion2004.htm', 'speeches/gwbushwomensbusinessforum.htm', 'speeches/wariniraq/gwbushiraq41304.htm', 'speeches/gwbww2memorial.htm', 'speeches/gwbreagansdeath.htm', 'speeches/gwbreaganeulogy.htm', 'speeches/convention2004/georgewbush2004rnc.htm', 'speeches/gwbushunitednations2004.htm', 'speeches/convention2004/georgewbush2004victoryspeech.htm', 'speeches/gwbushhalifax.htm', 'speeches/gwbushsecondinaugural.htm', 'speeches/wariniraq/gwbushiraq13005.htm', 'speeches/stateoftheunion2005.htm', 'speeches/gwbushnationaldefenseuniversity.htm', 'speeches/gwbushnationaldefenseuniversity.htm', 'speeches/gwbushcalvincollege.htm', 'speeches/gwbushhurricanekatrinarelief.htm', 'speeches/gwbushiraqstrategyannapolis.htm', 'speeches/gwbushmarchforlife.htm', 'speeches/gwbushlandonlectureksu.htm', 'speeches/stateoftheunion2006.htm', 'speeches/gwbimmigrationreform.htm', 'speeches/gwbushmilitaryofficersassociation.htm', 'speeches/gwbushmilitarytribunalsforterrorists.htm', 'speeches/wariniraq/gwbush911after5years.htm', 'speeches/gwbushdrumseldgates.htm', 'speeches/stateoftheunion2007.htm', 'speeches/gwbushvatechshootingsannouncement.htm', 'speeches/gwbushvatechmemorialconvocation.htm', 'speeches/gwbushannapolisconference.htm', 'speeches/gwbush&mahmoudpresser.htm', 'speeches/gwbushabudhabi.htm', 'speeches/gwbusheconomicgrowthpackage.htm', 'speeches/stateoftheunion2008.htm', 'speeches/wariniraq/gwbushiraq031908.htm', 'speeches/gwbush911pentagonmemorialdedication.htm', 'speeches/gwbusholympicteamswelcome2008.htm', 'speeches/gwbushonobamapresidentvictory.htm', 'speeches/gwbushtransitiondiscussion.htm', 'speeches/gwbushfinalpressconference.htm', 'speeches/gwbushfarewelladdress.htm', 'speeches/gwbushfinalradioaddress.htm', 'speeches/gwbushflight93memorial.htm', 'speeches/gwbushlibrarydedication.htm', 'speeches/gwbushhurricanekatrina10years.htm', 'speeches/gwbushafricanamericanmuseum.htm', 'speeches/gwbusheulogyforfather.htm']\n"
     ]
    },
    {
     "data": {
      "text/plain": [
       "88"
      ]
     },
     "execution_count": 28,
     "metadata": {},
     "output_type": "execute_result"
    }
   ],
   "source": [
    "def filter_link(link):\n",
    "    href = link.get('href')\n",
    "    if href:\n",
    "        return href.startswith('speeches') and href.endswith('.htm')\n",
    "\n",
    "links = page.find_all('a')\n",
    "urls = filter(filter_link, links)\n",
    "urls = [url.get('href') for url in urls]\n",
    "print(urls)\n",
    "len(urls)"
   ]
  },
  {
   "cell_type": "code",
   "execution_count": 29,
   "metadata": {},
   "outputs": [
    {
     "data": {
      "text/plain": [
       "['http://www.americanrhetoric.com/speeches/gwbush2000victoryspeech.htm',\n",
       " 'http://www.americanrhetoric.com/speeches/gwbfirstinaugural.htm',\n",
       " 'http://www.americanrhetoric.com/speeches/gwbushwhitehousestaffswearingin.htm',\n",
       " 'http://www.americanrhetoric.com/speeches/gwbushfaithbasedinitiatives.htm',\n",
       " 'http://www.americanrhetoric.com/speeches/gwbushfirstprayerbreakfast.htm',\n",
       " 'http://www.americanrhetoric.com/speeches/stateoftheunion2001.htm',\n",
       " 'http://www.americanrhetoric.com/speeches/gwbushstemcell.htm',\n",
       " 'http://www.americanrhetoric.com/speeches/gwbush911florida.htm',\n",
       " 'http://www.americanrhetoric.com/speeches/gwbush911barksdale.htm',\n",
       " 'http://www.americanrhetoric.com/speeches/gwbush911addresstothenation.htm',\n",
       " 'http://www.americanrhetoric.com/speeches/gwbush911groundzerobullhorn.htm',\n",
       " 'http://www.americanrhetoric.com/speeches/gwbush911prayer&memorialaddress.htm',\n",
       " 'http://www.americanrhetoric.com/speeches/gwbush911radioaddress.htm',\n",
       " 'http://www.americanrhetoric.com/speeches/gwbush911islamispeace.htm',\n",
       " 'http://www.americanrhetoric.com/speeches/gwbush911jointsessionspeech.htm',\n",
       " 'http://www.americanrhetoric.com/speeches/gwbush911intialafghanistanops.htm',\n",
       " 'http://www.americanrhetoric.com/speeches/gwbush911pentagonmemorial2001.htm',\n",
       " 'http://www.americanrhetoric.com/speeches/gwbushoct2001newsconfference.htm',\n",
       " 'http://www.americanrhetoric.com/speeches/gwbushusapatriotact2001.htm',\n",
       " 'http://www.americanrhetoric.com/speeches/gwbush911unitednations.htm',\n",
       " 'http://www.americanrhetoric.com/speeches/gwbushcitadelcadets.htm',\n",
       " 'http://www.americanrhetoric.com/speeches/gwbush911worldremembers.htm',\n",
       " 'http://www.americanrhetoric.com/speeches/gwbushnochildleftbehindsigning.htm',\n",
       " 'http://www.americanrhetoric.com/speeches/stateoftheunion2002.htm',\n",
       " 'http://www.americanrhetoric.com/speeches/gwbushcubaindependence100th.htm',\n",
       " 'http://www.americanrhetoric.com/speeches/gwbushcompassionateconservatism.htm',\n",
       " 'http://www.americanrhetoric.com/speeches/gwbushwestpointcommencement.htm',\n",
       " 'http://www.americanrhetoric.com/speeches/gwbushtwostatesolution.htm',\n",
       " 'http://www.americanrhetoric.com/speeches/gwbushunitednations2002.htm',\n",
       " 'http://www.americanrhetoric.com/speeches/gwbushwariniraqcincinnati.htm',\n",
       " 'http://www.americanrhetoric.com/speeches/gwbushshuttlecolumbiamemorial.htm',\n",
       " 'http://www.americanrhetoric.com/speeches/gwbushfutureofiraq2003.htm',\n",
       " 'http://www.americanrhetoric.com/speeches/wariniraq/gwbushiraq31703.htm',\n",
       " 'http://www.americanrhetoric.com/speeches/wariniraq/gwbushiraq31903.htm',\n",
       " 'http://www.americanrhetoric.com/speeches/wariniraq/gwbushiraq41003.htm',\n",
       " 'http://www.americanrhetoric.com/speeches/wariniraq/gwbushiraq5103.htm',\n",
       " 'http://www.americanrhetoric.com/speeches/gwbushunitednations2003.htm',\n",
       " 'http://www.americanrhetoric.com/speeches/gwbushnationaldendowmentdemocracy2003.htm',\n",
       " 'http://www.americanrhetoric.com/speeches/wariniraq/gwbush3pillarsofsecurity.htm',\n",
       " 'http://www.americanrhetoric.com/speeches/gwbushmedicarelegislationsigning.htm',\n",
       " 'http://www.americanrhetoric.com/speeches/wariniraq/gwbushiraq121403.htm',\n",
       " 'http://www.americanrhetoric.com/speeches/stateoftheunion2004.htm',\n",
       " 'http://www.americanrhetoric.com/speeches/gwbushwomensbusinessforum.htm',\n",
       " 'http://www.americanrhetoric.com/speeches/wariniraq/gwbushiraq41304.htm',\n",
       " 'http://www.americanrhetoric.com/speeches/gwbww2memorial.htm',\n",
       " 'http://www.americanrhetoric.com/speeches/gwbreagansdeath.htm',\n",
       " 'http://www.americanrhetoric.com/speeches/gwbreaganeulogy.htm',\n",
       " 'http://www.americanrhetoric.com/speeches/convention2004/georgewbush2004rnc.htm',\n",
       " 'http://www.americanrhetoric.com/speeches/gwbushunitednations2004.htm',\n",
       " 'http://www.americanrhetoric.com/speeches/convention2004/georgewbush2004victoryspeech.htm',\n",
       " 'http://www.americanrhetoric.com/speeches/gwbushhalifax.htm',\n",
       " 'http://www.americanrhetoric.com/speeches/gwbushsecondinaugural.htm',\n",
       " 'http://www.americanrhetoric.com/speeches/wariniraq/gwbushiraq13005.htm',\n",
       " 'http://www.americanrhetoric.com/speeches/stateoftheunion2005.htm',\n",
       " 'http://www.americanrhetoric.com/speeches/gwbushnationaldefenseuniversity.htm',\n",
       " 'http://www.americanrhetoric.com/speeches/gwbushnationaldefenseuniversity.htm',\n",
       " 'http://www.americanrhetoric.com/speeches/gwbushcalvincollege.htm',\n",
       " 'http://www.americanrhetoric.com/speeches/gwbushhurricanekatrinarelief.htm',\n",
       " 'http://www.americanrhetoric.com/speeches/gwbushiraqstrategyannapolis.htm',\n",
       " 'http://www.americanrhetoric.com/speeches/gwbushmarchforlife.htm',\n",
       " 'http://www.americanrhetoric.com/speeches/gwbushlandonlectureksu.htm',\n",
       " 'http://www.americanrhetoric.com/speeches/stateoftheunion2006.htm',\n",
       " 'http://www.americanrhetoric.com/speeches/gwbimmigrationreform.htm',\n",
       " 'http://www.americanrhetoric.com/speeches/gwbushmilitaryofficersassociation.htm',\n",
       " 'http://www.americanrhetoric.com/speeches/gwbushmilitarytribunalsforterrorists.htm',\n",
       " 'http://www.americanrhetoric.com/speeches/wariniraq/gwbush911after5years.htm',\n",
       " 'http://www.americanrhetoric.com/speeches/gwbushdrumseldgates.htm',\n",
       " 'http://www.americanrhetoric.com/speeches/stateoftheunion2007.htm',\n",
       " 'http://www.americanrhetoric.com/speeches/gwbushvatechshootingsannouncement.htm',\n",
       " 'http://www.americanrhetoric.com/speeches/gwbushvatechmemorialconvocation.htm',\n",
       " 'http://www.americanrhetoric.com/speeches/gwbushannapolisconference.htm',\n",
       " 'http://www.americanrhetoric.com/speeches/gwbush&mahmoudpresser.htm',\n",
       " 'http://www.americanrhetoric.com/speeches/gwbushabudhabi.htm',\n",
       " 'http://www.americanrhetoric.com/speeches/gwbusheconomicgrowthpackage.htm',\n",
       " 'http://www.americanrhetoric.com/speeches/stateoftheunion2008.htm',\n",
       " 'http://www.americanrhetoric.com/speeches/wariniraq/gwbushiraq031908.htm',\n",
       " 'http://www.americanrhetoric.com/speeches/gwbush911pentagonmemorialdedication.htm',\n",
       " 'http://www.americanrhetoric.com/speeches/gwbusholympicteamswelcome2008.htm',\n",
       " 'http://www.americanrhetoric.com/speeches/gwbushonobamapresidentvictory.htm',\n",
       " 'http://www.americanrhetoric.com/speeches/gwbushtransitiondiscussion.htm',\n",
       " 'http://www.americanrhetoric.com/speeches/gwbushfinalpressconference.htm',\n",
       " 'http://www.americanrhetoric.com/speeches/gwbushfarewelladdress.htm',\n",
       " 'http://www.americanrhetoric.com/speeches/gwbushfinalradioaddress.htm',\n",
       " 'http://www.americanrhetoric.com/speeches/gwbushflight93memorial.htm',\n",
       " 'http://www.americanrhetoric.com/speeches/gwbushlibrarydedication.htm',\n",
       " 'http://www.americanrhetoric.com/speeches/gwbushhurricanekatrina10years.htm',\n",
       " 'http://www.americanrhetoric.com/speeches/gwbushafricanamericanmuseum.htm',\n",
       " 'http://www.americanrhetoric.com/speeches/gwbusheulogyforfather.htm']"
      ]
     },
     "execution_count": 29,
     "metadata": {},
     "output_type": "execute_result"
    }
   ],
   "source": [
    "full_urls = []\n",
    "for url in urls:\n",
    "    url = f\"http://www.americanrhetoric.com/{url}\"\n",
    "    full_urls.append(url)\n",
    "full_urls"
   ]
  },
  {
   "cell_type": "code",
   "execution_count": 30,
   "metadata": {},
   "outputs": [],
   "source": [
    "speeches = []\n",
    "for url in full_urls:\n",
    "    response = requests.get(url)\n",
    "    page_data = BeautifulSoup(response.content)\n",
    "    try:\n",
    "        speech_data = page_data.find_all(\"font\", {\"face\": \"Verdana\"})\n",
    "        speeches.append(speech_data)\n",
    "    except:\n",
    "        pass"
   ]
  },
  {
   "cell_type": "code",
   "execution_count": 31,
   "metadata": {},
   "outputs": [
    {
     "data": {
      "text/plain": [
       "[<font face=\"Verdana\" size=\"2\">Thank you very much.</font>,\n",
       " <font face=\"Verdana\" size=\"2\">Good evening, my fellow Americans. I appreciate so very \n",
       " much the opportunity to speak with you tonight.<br/>\n",
       " <br/>\n",
       " Mr. Speaker, Lieutenant Governor, friends, distinguished guests, our country has \n",
       " been through a long and trying period, with the outcome of the presidential \n",
       " election not finalized for longer than any of us could ever imagine.<br/>\n",
       " <br/>\n",
       " Vice President Gore and I put our hearts and hopes into our campaigns. We both \n",
       " gave it our all. We shared similar emotions, so I understand how difficult this \n",
       " moment must be for Vice President Gore and his family.<br/>\n",
       " <br/>\n",
       " He has a distinguished record of service to our country as a congressman, a \n",
       " senator and a vice president.<br/>\n",
       " <br/>\n",
       " This evening I received a gracious call from the vice president. We agreed to \n",
       " meet early next week in Washington, and we agreed to do our best to heal our \n",
       " country after this hard-fought contest.<br/>\n",
       " <br/>\n",
       " Tonight I want to thank all the thousands of volunteers and campaign workers who \n",
       " worked so hard on my behalf.<br/>\n",
       " <br/>\n",
       " I also salute the vice president and his supports for waging a spirited \n",
       " campaign. And I thank him for a call that I know was difficult to make. Laura \n",
       " and I wish the vice president and Senator Lieberman and their families the very \n",
       " best.<br/>\n",
       " <br/>\n",
       " I have a lot to be thankful for tonight. I'm thankful for America and thankful \n",
       " that we were able to resolve our electoral differences in a peaceful way.<br/>\n",
       " <br/>\n",
       " I'm thankful to the American people for the great privilege of being able to \n",
       " serve as your next president.<br/>\n",
       " <br/>\n",
       " I want to thank my wife and our daughters for their love. Laura's active \n",
       " involvement as first lady has made Texas a better place, and she will be a \n",
       " wonderful first lady of America.<br/>\n",
       " <br/>\n",
       " I am proud to have Dick Cheney by my side, and America will be proud to have him \n",
       " as our next vice president.<br/>\n",
       " <br/>\n",
       " Tonight, I chose to speak from the chamber of the Texas House of Representatives \n",
       " because it has been a home to bipartisan cooperation. Here in a place where \n",
       " Democrats have the majority, Republicans and Democrats have worked together to \n",
       " do what is right for the people we represent.<br/>\n",
       " <br/>\n",
       " We've had spirited disagreements. And in the end, we found constructive \n",
       " consensus. It is an experience I will always carry with me, an example I will \n",
       " always follow.<br/>\n",
       " <br/>\n",
       " I want to thank my friend, House Speaker Pete Laney, a Democrat, who introduced \n",
       " me today. I want to thank the legislators from both political parties with whom \n",
       " I've worked.</font>,\n",
       " <font face=\"Verdana\" size=\"2\">Across the hall in our Texas capitol is the state Senate. And I cannot help but \n",
       " think of our mutual friend, the former Democrat lieutenant governor, Bob \n",
       " Bullock. His love for Texas and his ability to work in a bipartisan way continue \n",
       " to be a model for all of us.<br/>\n",
       " <br/>\n",
       " The spirit of cooperation I have seen in this hall is what is needed in \n",
       " Washington, D.C. It is the challenge of our moment. After a difficult election, \n",
       " we must put politics behind us and work together to make the promise of America \n",
       " available for every one of our citizens.<br/>\n",
       " <br/>\n",
       " I'm optimistic that we can change the tone in Washington, D.C.<br/>\n",
       " <br/>\n",
       " I believe things happen for a reason, and I hope the long wait of the last five \n",
       " weeks will heighten a desire to move beyond the bitterness and partisanship of \n",
       " the recent past.<br/>\n",
       " <br/>\n",
       " Our nation must rise above a house divided. Americans share hopes and goals and \n",
       " values far more important than any political disagreements.<br/>\n",
       " <br/>\n",
       " Republicans want the best for our nation, and so do Democrats. Our votes may \n",
       " differ, but not our hopes.<br/>\n",
       " <br/>\n",
       " I know America wants reconciliation and unity. I know Americans want progress. \n",
       " And we must seize this moment and deliver.<br/>\n",
       " <br/>\n",
       " Together, guided by a spirit of common sense, common courtesy and common goals, \n",
       " we can unite and inspire the American citizens.<br/>\n",
       " <br/>\n",
       " Together, we will work to make all our public schools excellent, teaching every \n",
       " student of every background and every accent, so that no child is left behind.<br/>\n",
       " <br/>\n",
       " Together, we will save Social Security and renew its promise of a secure \n",
       " retirement for generations to come.<br/>\n",
       " <br/>\n",
       " Together, we will strengthen Medicare and offer prescription drug coverage to all \n",
       " of our seniors.<br/>\n",
       " <br/>\n",
       " Together, we will give Americans the broad, fair, and fiscally responsible tax \n",
       " relief they deserve.<br/>\n",
       " <br/>\n",
       " Together, we'll have a bipartisan foreign policy true to our values and true to \n",
       " our friends, and we will have a military equal to every challenge and superior \n",
       " to every adversary.<br/>\n",
       " <br/>\n",
       " Together, we will address some of society's deepest problems one person at a \n",
       " time, by encouraging and empowering the good hearts and good works of the \n",
       " American people.<br/>\n",
       " <br/>\n",
       " This is the essence of compassionate conservatism and it will be a foundation of \n",
       " my administration.<br/>\n",
       " <br/>\n",
       " These priorities are not merely Republican concerns or Democratic concerns; they \n",
       " are American responsibilities.<br/>\n",
       " <br/>\n",
       " During the fall campaign, we differed about the details of these proposals, but \n",
       " there was remarkable consensus about the important issues before us: excellent \n",
       " schools, retirement and health security, tax relief, a strong military, a more \n",
       " civil society.<br/>\n",
       " <br/>\n",
       " We have discussed our differences. Now it is time to find common ground and \n",
       " build consensus to make America a beacon of opportunity in the 21st century.<br/>\n",
       " <br/>\n",
       " I'm optimistic this can happen. Our future demands it and our history proves it. \n",
       " Two hundred years ago, in the election of 1800, America faced another close \n",
       " presidential election. A tie in the Electoral College put the outcome into the \n",
       " hands of Congress.<br/>\n",
       " <br/>\n",
       " After six days of voting and 36 ballots, the House of Representatives elected \n",
       " Thomas Jefferson the third president of the United States. That election brought \n",
       " the first transfer of power from one party to another in our new democracy.<br/>\n",
       " <br/>\n",
       " Shortly after the election, Jefferson, in a letter titled \"Reconciliation and \n",
       " Reform,\" wrote this: \"The steady character of our countrymen is a rock to which \n",
       " we may safely moor; unequivocal in principle, reasonable in manner. We should be \n",
       " able to hope to do a great deal of good to the cause of freedom and harmony.\"<br/>\n",
       " <br/>\n",
       " Two hundred years have only strengthened the steady character of America. And so \n",
       " as we begin the work of healing our nation, tonight I call upon that character: \n",
       " respect for each other, respect for our differences, generosity of spirit, and a \n",
       " willingness to work hard and work together to solve any problem.<br/>\n",
       " <br/>\n",
       " I have something else to ask you, to ask every American. I ask for you to pray \n",
       " for this great nation. I ask for your prayers for leaders from both parties. I \n",
       " thank you for your prayers for me and my family, and I ask you to pray for Vice \n",
       " President Gore and his family.<br/>\n",
       " <br/>\n",
       " I have faith that with God's help we as a nation will move forward together as \n",
       " one nation, indivisible. And together we will create an America that is open, \n",
       " so every citizen has access to the American dream; an America that is educated, \n",
       " so every child has the keys to realize that dream; and an America that is united \n",
       " in our diversity and our shared American values that are larger than race or \n",
       " party.<br/>\n",
       " <br/>\n",
       " I was not elected to serve one party, but to serve one nation.<br/>\n",
       " <br/>\n",
       " The president of the United States is the president of every single American, of \n",
       " every race and every background.<br/>\n",
       " <br/>\n",
       " Whether you voted for me or not, I will do my best to serve your interests and I \n",
       " will work to earn your respect.<br/>\n",
       " <br/>\n",
       " I will be guided by President Jefferson's sense of purpose, to stand for \n",
       " principle, to be reasonable in manner, and above all, to do great good for the \n",
       " cause of freedom and harmony.<br/>\n",
       " <br/>\n",
       " The presidency is more than an honor. It is more than an office. It is a charge \n",
       " to keep, and I will give it my all.<br/>\n",
       " <br/>\n",
       " Thank you very much and God bless America.</font>,\n",
       " <font face=\"Verdana\" size=\"2\"><a href=\"https://www.amazon.com/Great-Speeches-Better-Speaking-Audio/dp/0071472290/ref=pd_bbs_sr_1?ie=UTF8&amp;s=books&amp;qid=1211077593&amp;sr=8-1\">\n",
       " <img border=\"0\" height=\"147\" src=\"../michaeleidenmullerbookmcgrawhillsmaller.jpg\" width=\"103\"/></a>\n",
       " </font>,\n",
       " <font face=\"Verdana\" size=\"2\"><span style=\"white-space:nowrap;\">\n",
       " <font face=\"Arial\" size=\"1\">\n",
       " <a href=\"https://www.amazon.com/gp/product/0071472290/ref=s9sims_c2_img1-rfc_p-2991_g1?pf_rd_m=ATVPDKIKX0DER&amp;pf_rd_s=center-2&amp;pf_rd_r=0DD2XY20XFXSQXG4XRD4&amp;pf_rd_t=101&amp;pf_rd_p=320448701&amp;pf_rd_i=507846\">\n",
       " <font color=\"#0000FF\">Book/CDs by Michael E. Eidenmuller, Published by \n",
       " McGraw-Hill (2008)</font></a></font></span></font>]"
      ]
     },
     "execution_count": 31,
     "metadata": {},
     "output_type": "execute_result"
    }
   ],
   "source": [
    "speeches[0]"
   ]
  },
  {
   "cell_type": "code",
   "execution_count": 32,
   "metadata": {},
   "outputs": [
    {
     "data": {
      "text/plain": [
       "\"[President Bush: This is George W Bush, the President of the United States. At this moment, the regime of Saddam Hussein is being removed from power, and a long era of fear and cruelty is ending. American and coalition forces are now operating inside Baghdad -- and we will not stop until Saddam’s corrupt gang is gone. The government of Iraq, and the future of your country, will soon belong to you. The goals of our coalition are clear and limited. We will end a brutal regime, whose aggression and weapons of mass destruction make it a unique threat to the world. Coalition forces will help maintain law and order, so that Iraqis can live in security. We will respect your great religious traditions, whose principles of equality and compassion are essential to Iraq’s future. We will help you build a peaceful and representative government that protects the rights of all citizens. And then our military forces will leave. Iraq will go forward as a unified, independent, and sovereign nation that has regained a respected place in the world. The United States and its coalition partners respect the people of Iraq. We are taking unprecedented measures to spare the lives of innocent Iraqi citizens. We are beginning to deliver food and water and medicine to those in need. Our only enemy is Saddam and hisbrutal regime -- and that regime is your enemy as well.In the new era that is coming to Iraq, your country will no longer be held captive to the will of a cruel dictator. You will be free, free to build a better life, instead of building more palaces for Saddam and his sons, free to pursue economic prosperity without the hardship of economic sanctions, free to travel and free speak your mind, free to join in the political affairs of Iraq. And all the people who make up your country -- Kurds, Shi’a, Turkomans, Sunnis, and others -- will be free of the terrible persecution that so many have endured.The nightmare that Saddam Hussein has brought to your nation will soon be over. You are a good and gifted people -- the heirs of a great civilization that contributes to all humanity. You deserve better than tyranny and corruption and torture chambers. You deserve to live as free people. And I assure every citizen of Iraq: Your nation will soon be free.Thank you. Prime Minister Blair: I'm glad to be able to speak to you today to tell you that Saddam Hussein's regime is collapsing; that the years of brutality, oppression, and fear are coming to an end; that a new and better future beckons for the people of Iraq. We did not want this war. But in refusing to give up his weapons of mass destruction, Saddam gave us no choice but to act. Now that the war has begun, it will be seen through to the end. We will continue to do all we can to avoid civilian casualties. Our enemy is Saddam and his regime, not the Iraqi people. Our forces are friends and liberators of the Iraqi people, not your conquerors. And they will not stay a day longer in Iraq than is necessary. I know, however, that some of you feared a repeat of 1991, when you thought Saddam's rule was being ended, but he stayed, and you suffered. That will not happen this time. This regime will be gone, and ended. And then we will work with you to build the peaceful, prosperous Iraq that you want, and that you deserve. And this Iraq will not be run by Britain, or by the United States, or by the United Nations. It will be run by you, the people of Iraq. Our aim is to help alleviate immediate humanitarian suffering, and to move as soon as possible to an interim authority that is run by Iraqis. That, in turn, will pave the way for a truly representative Iraqi government, which respects human rights and the rule of law and spends Iraq's wealth not on palaces and weapons of mass destruction, but on you and the services you need. Saddam Hussein and his regime plundered your nation's wealth. While many of you live in poverty, they lived lives of luxury. Saddam became one of the richest men in the world; his money stolen from you, the Iraqi people. The money from Iraqi oil will be yours; to be used to build prosperity for you and your families. I know too from my meetings with Iraqi exiles who live in Britain that you are an inventive, creative people. You should be free to travel, free to have access to independent media, free to express your views, free to develop your culture. My experience of people the world over is that we all want to be able to live our lives in peace and security; we all want to give our families the chance of a decent life and a future. For years, that chance has been denied to you. Millions of your countrymen and women have been forced to leave. Many thousands have been murdered, tortured, brutalized by the regime. Now we want to give you the chance to rebuild your country; to rebuild your lives; to give your families a chance of that better future. So it is in the spirit of friendship and goodwill that we now offer our help. Thank you.\""
      ]
     },
     "execution_count": 32,
     "metadata": {},
     "output_type": "execute_result"
    }
   ],
   "source": [
    "clean_speeches= []\n",
    "for speech in speeches:\n",
    "    a = re.sub('<[^<]+?>', '', str(speech))\n",
    "    b = re.sub('\\r\\n\\t\\t', '', str(a))  \n",
    "    c = re.sub('\\.,', '.', str(b))\n",
    "    d = re.sub('\\r\\n', '', str(c))\n",
    "    e = re.sub('\\n', '', str(d))\n",
    "    f = re.sub('\\xa0', '', str(e))\n",
    "    h = re.sub('\\t', '', str(f))\n",
    "    i = re.sub('\\s,\\s([Book/CDs].*)', '',str(h))\n",
    "    j = str(i).replace('\\\\', '')\n",
    "    clean_speeches.append(i)\n",
    "clean_speeches[34]"
   ]
  },
  {
   "cell_type": "code",
   "execution_count": 33,
   "metadata": {},
   "outputs": [],
   "source": [
    "dates=[]\n",
    "for url in full_urls:\n",
    "    response = requests.get(url)\n",
    "    page_data = BeautifulSoup(response.content)\n",
    "    try:\n",
    "        speech_date = page_data.find(\"font\", face='Arial', color='#CE0A04')\n",
    "        dates.append(speech_date)\n",
    "        if speech_date == None:\n",
    "            speech_date = page_data.find(class_=\"MsoNormal\").text.strip()\n",
    "            dates.append(speech_date)\n",
    "    except:\n",
    "        pass"
   ]
  },
  {
   "cell_type": "code",
   "execution_count": 35,
   "metadata": {},
   "outputs": [
    {
     "data": {
      "text/plain": [
       "<font color=\"#CE0A04\" face=\"Arial\" size=\"1\">delivered 1 \n",
       "February 2001, Washington Hilton Hotel, Washington, D.C.</font>"
      ]
     },
     "execution_count": 35,
     "metadata": {},
     "output_type": "execute_result"
    }
   ],
   "source": [
    "dates[4]"
   ]
  },
  {
   "cell_type": "code",
   "execution_count": 36,
   "metadata": {},
   "outputs": [],
   "source": [
    "clean_dates= []\n",
    "for date in dates:\n",
    "    a = re.sub('<[^<]+?>', '', str(date))\n",
    "    b = re.sub('\\r\\n\\t\\t', '', str(a))  \n",
    "    c = re.sub('\\r\\n', '', str(b))\n",
    "    d = re.sub('\\.,', '.', str(c))\n",
    "    e = re.sub('\\n', '', str(d))\n",
    "    f = re.sub('\\xa0', '', str(e))\n",
    "    h = re.sub('\\t', '', str(f))\n",
    "    i = str(h).replace('\\\\', '')\n",
    "    clean_dates.append(i)"
   ]
  },
  {
   "cell_type": "code",
   "execution_count": 38,
   "metadata": {},
   "outputs": [
    {
     "data": {
      "text/plain": [
       "'delivered 11 September 2001,9:30 A.M. EDT, Sarasota, FL'"
      ]
     },
     "execution_count": 38,
     "metadata": {},
     "output_type": "execute_result"
    }
   ],
   "source": [
    "clean_dates[7]"
   ]
  },
  {
   "cell_type": "code",
   "execution_count": 46,
   "metadata": {},
   "outputs": [],
   "source": [
    "import re\n",
    "real_dates = []\n",
    "locations = []\n",
    "for date in clean_dates:\n",
    "    good_date = re.findall(r\"\\d.?\\s\\w+\\s\\d\\d\\d\\d\\b\", date, re.IGNORECASE)\n",
    "    real_dates.append(good_date)\n",
    "    location = re.findall(r\",\\s([\\w].*)\", date, re.IGNORECASE)\n",
    "    locations.append(location)"
   ]
  },
  {
   "cell_type": "code",
   "execution_count": 42,
   "metadata": {},
   "outputs": [
    {
     "data": {
      "text/plain": [
       "['11 September 2001']"
      ]
     },
     "execution_count": 42,
     "metadata": {},
     "output_type": "execute_result"
    }
   ],
   "source": [
    "real_dates[7]"
   ]
  },
  {
   "cell_type": "code",
   "execution_count": 48,
   "metadata": {},
   "outputs": [
    {
     "data": {
      "text/plain": [
       "['White House, Washington, D.C.']"
      ]
     },
     "execution_count": 48,
     "metadata": {},
     "output_type": "execute_result"
    }
   ],
   "source": [
    "locations[17]"
   ]
  },
  {
   "cell_type": "markdown",
   "metadata": {},
   "source": [
    "### STEP 2: Download the PDFs and transform them into text. \n",
    "See Guided_Project_Options.ipynb For instructions on how to do this. Using this method you need to have the **xpdf** tool installed on your command line. If you have homebrew installed it should be as easy as:\n",
    "\n",
    "`brew install xpdf`\n",
    "\n",
    "Note **XPDF** is not a python thing, it is a command line thing that you are executing in Python."
   ]
  },
  {
   "cell_type": "code",
   "execution_count": null,
   "metadata": {},
   "outputs": [],
   "source": [
    "#Code away!\n",
    "\n",
    "\n"
   ]
  },
  {
   "cell_type": "markdown",
   "metadata": {},
   "source": [
    "### STEP 3: Clean up the text using regular expressions.\n",
    "Here we go: the text files that were extracted from the PDFs are messy, you do not need to get them perfect, but you need to clean them up enough so that you can zone in on the speeches themselves. \n",
    "\n",
    "Open up a simple text file in your own text editor and take a look at the patterns and what needs to be extracted. Begin with one file and develop regular expressions that will give you a clean speech. Once you have that working try looping through all of the text files."
   ]
  },
  {
   "cell_type": "markdown",
   "metadata": {},
   "source": [
    "Eventually you will want to loop through all of the text files and run the cleanup on all of them. But first just select one text file to open up and begin cleaning up."
   ]
  },
  {
   "cell_type": "code",
   "execution_count": null,
   "metadata": {},
   "outputs": [],
   "source": [
    "#Import the regular expression library"
   ]
  },
  {
   "cell_type": "code",
   "execution_count": null,
   "metadata": {},
   "outputs": [],
   "source": [
    "#Open a text file from your computer\n",
    "f = open('/Users/YOU/Documents/columbia_syllabus/pdf/15-777_1b82.txt', 'r')\n",
    "sample_transcript = f.read()"
   ]
  },
  {
   "cell_type": "code",
   "execution_count": null,
   "metadata": {},
   "outputs": [],
   "source": [
    "#Take a look at the text file\n",
    "sample_transcript"
   ]
  },
  {
   "cell_type": "code",
   "execution_count": null,
   "metadata": {},
   "outputs": [],
   "source": [
    "##Create regular expressions\n",
    "##In most cases you will want to remove \n",
    "##unnecessary text: re.subs()\n",
    "##Which is like replace() but with regex\n",
    "#will likely be useful"
   ]
  },
  {
   "cell_type": "code",
   "execution_count": null,
   "metadata": {},
   "outputs": [],
   "source": [
    "#Once you have successfully cleaned up one text file\n",
    "#Try to loop through all of them!!"
   ]
  },
  {
   "cell_type": "code",
   "execution_count": null,
   "metadata": {},
   "outputs": [],
   "source": [
    "#Join your dataframe of clean speeches\n",
    "#With your original data frame\n",
    "#Join them on the PDF name."
   ]
  }
 ],
 "metadata": {
  "kernelspec": {
   "display_name": "Python 3",
   "language": "python",
   "name": "python3"
  },
  "language_info": {
   "codemirror_mode": {
    "name": "ipython",
    "version": 3
   },
   "file_extension": ".py",
   "mimetype": "text/x-python",
   "name": "python",
   "nbconvert_exporter": "python",
   "pygments_lexer": "ipython3",
   "version": "3.7.1"
  }
 },
 "nbformat": 4,
 "nbformat_minor": 2
}
